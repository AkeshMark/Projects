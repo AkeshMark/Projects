{
 "cells": [
  {
   "cell_type": "markdown",
   "id": "6f4ad868",
   "metadata": {},
   "source": [
    "# Importing the dataset"
   ]
  },
  {
   "cell_type": "code",
   "execution_count": 1,
   "id": "d21f82ec",
   "metadata": {},
   "outputs": [
    {
     "data": {
      "text/html": [
       "<div>\n",
       "<style scoped>\n",
       "    .dataframe tbody tr th:only-of-type {\n",
       "        vertical-align: middle;\n",
       "    }\n",
       "\n",
       "    .dataframe tbody tr th {\n",
       "        vertical-align: top;\n",
       "    }\n",
       "\n",
       "    .dataframe thead th {\n",
       "        text-align: right;\n",
       "    }\n",
       "</style>\n",
       "<table border=\"1\" class=\"dataframe\">\n",
       "  <thead>\n",
       "    <tr style=\"text-align: right;\">\n",
       "      <th></th>\n",
       "      <th>age</th>\n",
       "      <th>sex</th>\n",
       "      <th>cp</th>\n",
       "      <th>trestbps</th>\n",
       "      <th>chol</th>\n",
       "      <th>restecg</th>\n",
       "      <th>thalach</th>\n",
       "      <th>exang</th>\n",
       "      <th>oldpeak</th>\n",
       "      <th>slope</th>\n",
       "      <th>ca</th>\n",
       "      <th>thal</th>\n",
       "      <th>target</th>\n",
       "    </tr>\n",
       "  </thead>\n",
       "  <tbody>\n",
       "    <tr>\n",
       "      <th>0</th>\n",
       "      <td>52</td>\n",
       "      <td>1</td>\n",
       "      <td>0</td>\n",
       "      <td>125</td>\n",
       "      <td>212</td>\n",
       "      <td>1</td>\n",
       "      <td>168</td>\n",
       "      <td>0</td>\n",
       "      <td>1.0</td>\n",
       "      <td>2</td>\n",
       "      <td>2</td>\n",
       "      <td>3</td>\n",
       "      <td>0</td>\n",
       "    </tr>\n",
       "    <tr>\n",
       "      <th>1</th>\n",
       "      <td>53</td>\n",
       "      <td>1</td>\n",
       "      <td>0</td>\n",
       "      <td>140</td>\n",
       "      <td>203</td>\n",
       "      <td>0</td>\n",
       "      <td>155</td>\n",
       "      <td>1</td>\n",
       "      <td>3.1</td>\n",
       "      <td>0</td>\n",
       "      <td>0</td>\n",
       "      <td>3</td>\n",
       "      <td>0</td>\n",
       "    </tr>\n",
       "    <tr>\n",
       "      <th>2</th>\n",
       "      <td>70</td>\n",
       "      <td>1</td>\n",
       "      <td>0</td>\n",
       "      <td>145</td>\n",
       "      <td>174</td>\n",
       "      <td>1</td>\n",
       "      <td>125</td>\n",
       "      <td>1</td>\n",
       "      <td>2.6</td>\n",
       "      <td>0</td>\n",
       "      <td>0</td>\n",
       "      <td>3</td>\n",
       "      <td>0</td>\n",
       "    </tr>\n",
       "    <tr>\n",
       "      <th>3</th>\n",
       "      <td>61</td>\n",
       "      <td>1</td>\n",
       "      <td>0</td>\n",
       "      <td>148</td>\n",
       "      <td>203</td>\n",
       "      <td>1</td>\n",
       "      <td>161</td>\n",
       "      <td>0</td>\n",
       "      <td>0.0</td>\n",
       "      <td>2</td>\n",
       "      <td>1</td>\n",
       "      <td>3</td>\n",
       "      <td>0</td>\n",
       "    </tr>\n",
       "    <tr>\n",
       "      <th>4</th>\n",
       "      <td>62</td>\n",
       "      <td>0</td>\n",
       "      <td>0</td>\n",
       "      <td>138</td>\n",
       "      <td>294</td>\n",
       "      <td>1</td>\n",
       "      <td>106</td>\n",
       "      <td>0</td>\n",
       "      <td>1.9</td>\n",
       "      <td>1</td>\n",
       "      <td>3</td>\n",
       "      <td>2</td>\n",
       "      <td>0</td>\n",
       "    </tr>\n",
       "    <tr>\n",
       "      <th>...</th>\n",
       "      <td>...</td>\n",
       "      <td>...</td>\n",
       "      <td>...</td>\n",
       "      <td>...</td>\n",
       "      <td>...</td>\n",
       "      <td>...</td>\n",
       "      <td>...</td>\n",
       "      <td>...</td>\n",
       "      <td>...</td>\n",
       "      <td>...</td>\n",
       "      <td>...</td>\n",
       "      <td>...</td>\n",
       "      <td>...</td>\n",
       "    </tr>\n",
       "    <tr>\n",
       "      <th>963</th>\n",
       "      <td>59</td>\n",
       "      <td>1</td>\n",
       "      <td>1</td>\n",
       "      <td>140</td>\n",
       "      <td>221</td>\n",
       "      <td>1</td>\n",
       "      <td>164</td>\n",
       "      <td>1</td>\n",
       "      <td>0.0</td>\n",
       "      <td>2</td>\n",
       "      <td>0</td>\n",
       "      <td>2</td>\n",
       "      <td>1</td>\n",
       "    </tr>\n",
       "    <tr>\n",
       "      <th>964</th>\n",
       "      <td>60</td>\n",
       "      <td>1</td>\n",
       "      <td>0</td>\n",
       "      <td>125</td>\n",
       "      <td>258</td>\n",
       "      <td>0</td>\n",
       "      <td>141</td>\n",
       "      <td>1</td>\n",
       "      <td>2.8</td>\n",
       "      <td>1</td>\n",
       "      <td>1</td>\n",
       "      <td>3</td>\n",
       "      <td>0</td>\n",
       "    </tr>\n",
       "    <tr>\n",
       "      <th>965</th>\n",
       "      <td>47</td>\n",
       "      <td>1</td>\n",
       "      <td>0</td>\n",
       "      <td>110</td>\n",
       "      <td>275</td>\n",
       "      <td>0</td>\n",
       "      <td>118</td>\n",
       "      <td>1</td>\n",
       "      <td>1.0</td>\n",
       "      <td>1</td>\n",
       "      <td>1</td>\n",
       "      <td>2</td>\n",
       "      <td>0</td>\n",
       "    </tr>\n",
       "    <tr>\n",
       "      <th>966</th>\n",
       "      <td>50</td>\n",
       "      <td>0</td>\n",
       "      <td>0</td>\n",
       "      <td>110</td>\n",
       "      <td>254</td>\n",
       "      <td>0</td>\n",
       "      <td>159</td>\n",
       "      <td>0</td>\n",
       "      <td>0.0</td>\n",
       "      <td>2</td>\n",
       "      <td>0</td>\n",
       "      <td>2</td>\n",
       "      <td>1</td>\n",
       "    </tr>\n",
       "    <tr>\n",
       "      <th>967</th>\n",
       "      <td>54</td>\n",
       "      <td>1</td>\n",
       "      <td>0</td>\n",
       "      <td>120</td>\n",
       "      <td>188</td>\n",
       "      <td>1</td>\n",
       "      <td>113</td>\n",
       "      <td>0</td>\n",
       "      <td>1.4</td>\n",
       "      <td>1</td>\n",
       "      <td>1</td>\n",
       "      <td>3</td>\n",
       "      <td>0</td>\n",
       "    </tr>\n",
       "  </tbody>\n",
       "</table>\n",
       "<p>968 rows × 13 columns</p>\n",
       "</div>"
      ],
      "text/plain": [
       "     age  sex  cp  trestbps  chol  restecg  thalach  exang  oldpeak  slope  \\\n",
       "0     52    1   0       125   212        1      168      0      1.0      2   \n",
       "1     53    1   0       140   203        0      155      1      3.1      0   \n",
       "2     70    1   0       145   174        1      125      1      2.6      0   \n",
       "3     61    1   0       148   203        1      161      0      0.0      2   \n",
       "4     62    0   0       138   294        1      106      0      1.9      1   \n",
       "..   ...  ...  ..       ...   ...      ...      ...    ...      ...    ...   \n",
       "963   59    1   1       140   221        1      164      1      0.0      2   \n",
       "964   60    1   0       125   258        0      141      1      2.8      1   \n",
       "965   47    1   0       110   275        0      118      1      1.0      1   \n",
       "966   50    0   0       110   254        0      159      0      0.0      2   \n",
       "967   54    1   0       120   188        1      113      0      1.4      1   \n",
       "\n",
       "     ca  thal  target  \n",
       "0     2     3       0  \n",
       "1     0     3       0  \n",
       "2     0     3       0  \n",
       "3     1     3       0  \n",
       "4     3     2       0  \n",
       "..   ..   ...     ...  \n",
       "963   0     2       1  \n",
       "964   1     3       0  \n",
       "965   1     2       0  \n",
       "966   0     2       1  \n",
       "967   1     3       0  \n",
       "\n",
       "[968 rows x 13 columns]"
      ]
     },
     "execution_count": 1,
     "metadata": {},
     "output_type": "execute_result"
    }
   ],
   "source": [
    "import numpy as np\n",
    "import pandas as pd\n",
    "\n",
    "df=pd.read_csv('data.csv')\n",
    "df"
   ]
  },
  {
   "cell_type": "code",
   "execution_count": 2,
   "id": "3a12505a",
   "metadata": {},
   "outputs": [],
   "source": [
    "df=df.values"
   ]
  },
  {
   "cell_type": "code",
   "execution_count": 3,
   "id": "5dac2c90",
   "metadata": {},
   "outputs": [
    {
     "data": {
      "text/plain": [
       "array([[52.,  1.,  0., ...,  2.,  3.,  0.],\n",
       "       [53.,  1.,  0., ...,  0.,  3.,  0.],\n",
       "       [70.,  1.,  0., ...,  0.,  3.,  0.],\n",
       "       ...,\n",
       "       [47.,  1.,  0., ...,  1.,  2.,  0.],\n",
       "       [50.,  0.,  0., ...,  0.,  2.,  1.],\n",
       "       [54.,  1.,  0., ...,  1.,  3.,  0.]])"
      ]
     },
     "execution_count": 3,
     "metadata": {},
     "output_type": "execute_result"
    }
   ],
   "source": [
    "df"
   ]
  },
  {
   "cell_type": "code",
   "execution_count": 4,
   "id": "66aae91b",
   "metadata": {},
   "outputs": [],
   "source": [
    "data=df[:,0:12]\n",
    "target=df[:,12]"
   ]
  },
  {
   "cell_type": "code",
   "execution_count": 5,
   "id": "6ff7d0b6",
   "metadata": {},
   "outputs": [
    {
     "data": {
      "text/plain": [
       "array([[52.,  1.,  0., ...,  2.,  2.,  3.],\n",
       "       [53.,  1.,  0., ...,  0.,  0.,  3.],\n",
       "       [70.,  1.,  0., ...,  0.,  0.,  3.],\n",
       "       ...,\n",
       "       [47.,  1.,  0., ...,  1.,  1.,  2.],\n",
       "       [50.,  0.,  0., ...,  2.,  0.,  2.],\n",
       "       [54.,  1.,  0., ...,  1.,  1.,  3.]])"
      ]
     },
     "execution_count": 5,
     "metadata": {},
     "output_type": "execute_result"
    }
   ],
   "source": [
    "data"
   ]
  },
  {
   "cell_type": "code",
   "execution_count": 6,
   "id": "d40ccf41",
   "metadata": {},
   "outputs": [
    {
     "data": {
      "text/plain": [
       "array([0., 0., 0., 0., 0., 1., 0., 0., 0., 0., 1., 0., 1., 0., 0., 1., 1.,\n",
       "       0., 1., 1., 0., 1., 1., 1., 1., 0., 1., 0., 0., 0., 1., 0., 0., 1.,\n",
       "       0., 1., 1., 1., 0., 1., 1., 0., 0., 1., 1., 1., 1., 0., 1., 0., 1.,\n",
       "       0., 1., 1., 0., 0., 1., 1., 0., 1., 1., 0., 1., 0., 1., 0., 0., 0.,\n",
       "       0., 0., 1., 1., 0., 1., 1., 0., 0., 0., 1., 1., 1., 1., 0., 0., 1.,\n",
       "       1., 0., 0., 1., 1., 1., 0., 0., 1., 1., 1., 1., 1., 1., 0., 0., 0.,\n",
       "       0., 0., 0., 1., 0., 0., 0., 0., 0., 0., 1., 1., 1., 0., 0., 0., 1.,\n",
       "       1., 1., 1., 1., 1., 1., 1., 1., 1., 0., 1., 1., 1., 0., 0., 0., 1.,\n",
       "       1., 0., 1., 0., 1., 1., 0., 0., 1., 0., 1., 1., 1., 1., 0., 1., 0.,\n",
       "       0., 0., 0., 0., 1., 1., 1., 1., 0., 1., 1., 0., 0., 0., 0., 0., 1.,\n",
       "       0., 1., 1., 0., 0., 0., 0., 0., 1., 1., 1., 0., 1., 0., 1., 1., 0.,\n",
       "       1., 1., 1., 1., 1., 1., 0., 1., 1., 0., 1., 0., 0., 1., 1., 1., 0.,\n",
       "       1., 0., 0., 0., 0., 1., 1., 1., 1., 0., 1., 1., 0., 1., 0., 1., 1.,\n",
       "       1., 0., 0., 0., 0., 1., 0., 1., 0., 1., 1., 0., 1., 1., 0., 1., 0.,\n",
       "       0., 0., 1., 0., 1., 1., 1., 1., 1., 0., 1., 0., 0., 1., 1., 1., 1.,\n",
       "       0., 1., 0., 1., 1., 0., 1., 1., 1., 1., 1., 0., 1., 1., 1., 1., 0.,\n",
       "       1., 0., 1., 1., 0., 0., 1., 1., 1., 1., 1., 0., 1., 0., 1., 1., 0.,\n",
       "       1., 0., 0., 0., 1., 1., 1., 1., 1., 0., 1., 1., 1., 0., 0., 1., 1.,\n",
       "       0., 0., 1., 1., 0., 1., 1., 0., 0., 1., 1., 0., 0., 1., 1., 1., 1.,\n",
       "       0., 0., 1., 0., 0., 1., 0., 0., 1., 0., 1., 0., 0., 0., 1., 1., 1.,\n",
       "       1., 1., 0., 1., 0., 0., 1., 1., 0., 0., 1., 0., 1., 1., 1., 1., 1.,\n",
       "       0., 0., 0., 0., 0., 1., 1., 0., 0., 1., 0., 0., 1., 0., 1., 0., 1.,\n",
       "       1., 0., 1., 1., 1., 0., 0., 1., 0., 1., 0., 1., 0., 0., 0., 0., 1.,\n",
       "       1., 1., 1., 1., 1., 1., 1., 0., 0., 0., 1., 1., 0., 0., 0., 0., 1.,\n",
       "       1., 1., 1., 0., 1., 0., 0., 0., 0., 1., 1., 1., 1., 0., 1., 0., 1.,\n",
       "       1., 0., 1., 0., 1., 1., 1., 0., 1., 1., 1., 1., 1., 0., 1., 0., 1.,\n",
       "       1., 1., 1., 0., 1., 0., 0., 1., 0., 0., 0., 1., 0., 0., 0., 0., 1.,\n",
       "       1., 1., 1., 0., 0., 1., 1., 0., 1., 1., 1., 1., 1., 1., 0., 1., 0.,\n",
       "       1., 1., 0., 0., 0., 1., 0., 0., 1., 0., 0., 0., 1., 1., 0., 0., 1.,\n",
       "       1., 1., 0., 1., 0., 1., 1., 1., 1., 1., 0., 1., 0., 1., 0., 1., 0.,\n",
       "       0., 1., 1., 1., 0., 0., 0., 1., 0., 0., 0., 1., 1., 1., 1., 1., 0.,\n",
       "       0., 1., 1., 1., 1., 1., 1., 0., 1., 0., 0., 1., 1., 0., 0., 1., 1.,\n",
       "       1., 0., 0., 1., 0., 0., 0., 0., 1., 0., 0., 0., 0., 0., 1., 1., 0.,\n",
       "       1., 0., 0., 1., 1., 1., 1., 0., 0., 0., 0., 0., 0., 0., 1., 1., 1.,\n",
       "       1., 0., 0., 0., 0., 0., 0., 0., 0., 1., 0., 0., 1., 1., 0., 0., 1.,\n",
       "       1., 0., 1., 1., 1., 1., 1., 0., 0., 1., 1., 1., 0., 1., 1., 0., 1.,\n",
       "       1., 0., 1., 0., 1., 0., 0., 1., 1., 1., 1., 0., 1., 0., 0., 0., 1.,\n",
       "       1., 0., 0., 0., 0., 1., 1., 0., 0., 0., 0., 0., 0., 1., 1., 1., 0.,\n",
       "       1., 0., 0., 1., 0., 0., 0., 1., 0., 1., 1., 1., 0., 0., 1., 1., 0.,\n",
       "       1., 0., 1., 1., 1., 1., 0., 0., 1., 1., 0., 1., 1., 1., 1., 0., 0.,\n",
       "       1., 0., 1., 1., 0., 1., 1., 0., 1., 0., 0., 0., 0., 1., 1., 0., 1.,\n",
       "       1., 1., 0., 0., 1., 1., 1., 1., 1., 1., 1., 1., 0., 1., 1., 0., 0.,\n",
       "       1., 1., 1., 0., 0., 0., 0., 1., 1., 1., 1., 0., 0., 1., 1., 0., 0.,\n",
       "       0., 1., 0., 0., 1., 1., 1., 0., 0., 0., 0., 0., 0., 0., 0., 1., 0.,\n",
       "       1., 1., 0., 0., 1., 0., 1., 0., 0., 1., 1., 0., 1., 1., 1., 0., 0.,\n",
       "       0., 0., 1., 1., 1., 1., 1., 0., 0., 0., 0., 1., 0., 1., 1., 0., 1.,\n",
       "       0., 1., 1., 1., 0., 0., 1., 1., 1., 0., 1., 0., 0., 0., 0., 1., 0.,\n",
       "       1., 0., 0., 1., 0., 0., 0., 1., 1., 1., 1., 0., 0., 0., 0., 0., 0.,\n",
       "       1., 1., 1., 1., 1., 1., 1., 1., 1., 0., 0., 0., 1., 0., 1., 1., 0.,\n",
       "       0., 0., 0., 0., 0., 1., 0., 0., 0., 0., 0., 0., 1., 1., 1., 0., 1.,\n",
       "       0., 0., 1., 0., 1., 1., 0., 0., 0., 0., 0., 1., 0., 0., 0., 1., 0.,\n",
       "       0., 0., 0., 1., 1., 0., 0., 0., 1., 0., 0., 0., 0., 1., 0., 1., 1.,\n",
       "       1., 0., 1., 1., 0., 1., 1., 1., 1., 1., 1., 0., 1., 0., 0., 1., 1.,\n",
       "       1., 1., 1., 0., 1., 1., 1., 1., 0., 1., 1., 0., 1., 0., 1., 1., 1.,\n",
       "       1., 1., 0., 0., 1., 0., 0., 1., 0., 1., 1., 1., 1., 0., 0., 1., 1.,\n",
       "       0., 1., 0., 0., 1., 0., 0., 0., 0., 1., 0., 1., 1., 0., 1., 1., 1.,\n",
       "       0., 0., 1., 0., 0., 1., 0., 0., 0., 0., 1., 1., 0., 0., 1., 0.])"
      ]
     },
     "execution_count": 6,
     "metadata": {},
     "output_type": "execute_result"
    }
   ],
   "source": [
    "target"
   ]
  },
  {
   "cell_type": "code",
   "execution_count": 7,
   "id": "16abb837",
   "metadata": {},
   "outputs": [],
   "source": [
    "from sklearn.preprocessing import MinMaxScaler\n",
    "\n",
    "target=np.reshape(target, (-1,1))\n",
    "\n",
    "scaler_data = MinMaxScaler(feature_range=(0,1))\n",
    "scaler_target = MinMaxScaler()\n",
    "\n",
    "data_scaled=scaler_data.fit_transform(data)\n",
    "target_scaled=scaler_target.fit_transform(target)"
   ]
  },
  {
   "cell_type": "code",
   "execution_count": 8,
   "id": "3ad26724",
   "metadata": {},
   "outputs": [],
   "source": [
    "from sklearn.model_selection import train_test_split\n",
    "\n",
    "train_data, test_data, train_target, test_target = train_test_split(data_scaled, target_scaled,test_size=0.1)"
   ]
  },
  {
   "cell_type": "code",
   "execution_count": 9,
   "id": "5209a8ca",
   "metadata": {},
   "outputs": [
    {
     "name": "stdout",
     "output_type": "stream",
     "text": [
      "WARNING:tensorflow:From C:\\Users\\Acer\\anaconda3\\Lib\\site-packages\\keras\\src\\losses.py:2976: The name tf.losses.sparse_softmax_cross_entropy is deprecated. Please use tf.compat.v1.losses.sparse_softmax_cross_entropy instead.\n",
      "\n",
      "WARNING:tensorflow:From C:\\Users\\Acer\\anaconda3\\Lib\\site-packages\\keras\\src\\backend.py:873: The name tf.get_default_graph is deprecated. Please use tf.compat.v1.get_default_graph instead.\n",
      "\n",
      "Model: \"sequential\"\n",
      "_________________________________________________________________\n",
      " Layer (type)                Output Shape              Param #   \n",
      "=================================================================\n",
      " dense (Dense)               (None, 64)                832       \n",
      "                                                                 \n",
      " dropout (Dropout)           (None, 64)                0         \n",
      "                                                                 \n",
      " dense_1 (Dense)             (None, 32)                2080      \n",
      "                                                                 \n",
      " dropout_1 (Dropout)         (None, 32)                0         \n",
      "                                                                 \n",
      " dense_2 (Dense)             (None, 1)                 33        \n",
      "                                                                 \n",
      "=================================================================\n",
      "Total params: 2945 (11.50 KB)\n",
      "Trainable params: 2945 (11.50 KB)\n",
      "Non-trainable params: 0 (0.00 Byte)\n",
      "_________________________________________________________________\n"
     ]
    }
   ],
   "source": [
    "from keras.models import Sequential\n",
    "from keras.layers import Dense,Dropout\n",
    "from keras.optimizers import Adam\n",
    "\n",
    "model = Sequential()\n",
    "model.add(Dense(64,activation='relu',input_shape=(train_data.shape[1],)))\n",
    "model.add(Dropout(0.2))\n",
    "model.add(Dense(32, activation='relu'))\n",
    "model.add(Dropout(0.2))\n",
    "model.add(Dense(1, activation='sigmoid'))\n",
    "\n",
    "optimizer = Adam(learning_rate=0.001)\n",
    "model.compile(optimizer=optimizer,loss='binary_crossentropy',metrics=['accuracy'])\n",
    "\n",
    "model.summary()"
   ]
  },
  {
   "cell_type": "code",
   "execution_count": 10,
   "id": "9ab7f999",
   "metadata": {},
   "outputs": [],
   "source": [
    "from keras.callbacks import ModelCheckpoint,EarlyStopping\n",
    "\n",
    "checkpoint = ModelCheckpoint('models/model-{epoch:03d}.model',monitor='val_loss',save_best_only=True,mode='auto')\n"
   ]
  },
  {
   "cell_type": "code",
   "execution_count": 11,
   "id": "fc1e81a5",
   "metadata": {},
   "outputs": [
    {
     "name": "stdout",
     "output_type": "stream",
     "text": [
      "Epoch 1/500\n",
      "WARNING:tensorflow:From C:\\Users\\Acer\\anaconda3\\Lib\\site-packages\\keras\\src\\utils\\tf_utils.py:492: The name tf.ragged.RaggedTensorValue is deprecated. Please use tf.compat.v1.ragged.RaggedTensorValue instead.\n",
      "\n",
      "WARNING:tensorflow:From C:\\Users\\Acer\\anaconda3\\Lib\\site-packages\\keras\\src\\engine\\base_layer_utils.py:384: The name tf.executing_eagerly_outside_functions is deprecated. Please use tf.compat.v1.executing_eagerly_outside_functions instead.\n",
      "\n",
      "25/49 [==============>...............] - ETA: 0s - loss: 0.6893 - accuracy: 0.5725 INFO:tensorflow:Assets written to: models\\model-001.model\\assets\n"
     ]
    },
    {
     "name": "stderr",
     "output_type": "stream",
     "text": [
      "INFO:tensorflow:Assets written to: models\\model-001.model\\assets\n"
     ]
    },
    {
     "name": "stdout",
     "output_type": "stream",
     "text": [
      "49/49 [==============================] - 2s 22ms/step - loss: 0.6611 - accuracy: 0.6322 - val_loss: 0.5863 - val_accuracy: 0.8182\n",
      "Epoch 2/500\n",
      "29/49 [================>.............] - ETA: 0s - loss: 0.5545 - accuracy: 0.7608INFO:tensorflow:Assets written to: models\\model-002.model\\assets\n"
     ]
    },
    {
     "name": "stderr",
     "output_type": "stream",
     "text": [
      "INFO:tensorflow:Assets written to: models\\model-002.model\\assets\n"
     ]
    },
    {
     "name": "stdout",
     "output_type": "stream",
     "text": [
      "49/49 [==============================] - 1s 15ms/step - loss: 0.5336 - accuracy: 0.7842 - val_loss: 0.4901 - val_accuracy: 0.8068\n",
      "Epoch 3/500\n",
      "28/49 [================>.............] - ETA: 0s - loss: 0.4610 - accuracy: 0.7946INFO:tensorflow:Assets written to: models\\model-003.model\\assets\n"
     ]
    },
    {
     "name": "stderr",
     "output_type": "stream",
     "text": [
      "INFO:tensorflow:Assets written to: models\\model-003.model\\assets\n"
     ]
    },
    {
     "name": "stdout",
     "output_type": "stream",
     "text": [
      "49/49 [==============================] - 1s 15ms/step - loss: 0.4558 - accuracy: 0.7905 - val_loss: 0.4408 - val_accuracy: 0.8182\n",
      "Epoch 4/500\n",
      "49/49 [==============================] - 0s 3ms/step - loss: 0.4388 - accuracy: 0.8059 - val_loss: 0.4504 - val_accuracy: 0.7955\n",
      "Epoch 5/500\n",
      "28/49 [================>.............] - ETA: 0s - loss: 0.3850 - accuracy: 0.8371INFO:tensorflow:Assets written to: models\\model-005.model\\assets\n"
     ]
    },
    {
     "name": "stderr",
     "output_type": "stream",
     "text": [
      "INFO:tensorflow:Assets written to: models\\model-005.model\\assets\n"
     ]
    },
    {
     "name": "stdout",
     "output_type": "stream",
     "text": [
      "49/49 [==============================] - 1s 13ms/step - loss: 0.4035 - accuracy: 0.8314 - val_loss: 0.3986 - val_accuracy: 0.8182\n",
      "Epoch 6/500\n",
      "25/49 [==============>...............] - ETA: 0s - loss: 0.3922 - accuracy: 0.8050INFO:tensorflow:Assets written to: models\\model-006.model\\assets\n"
     ]
    },
    {
     "name": "stderr",
     "output_type": "stream",
     "text": [
      "INFO:tensorflow:Assets written to: models\\model-006.model\\assets\n"
     ]
    },
    {
     "name": "stdout",
     "output_type": "stream",
     "text": [
      "49/49 [==============================] - 1s 14ms/step - loss: 0.4052 - accuracy: 0.8110 - val_loss: 0.3919 - val_accuracy: 0.8295\n",
      "Epoch 7/500\n",
      "26/49 [==============>...............] - ETA: 0s - loss: 0.3960 - accuracy: 0.8221INFO:tensorflow:Assets written to: models\\model-007.model\\assets\n"
     ]
    },
    {
     "name": "stderr",
     "output_type": "stream",
     "text": [
      "INFO:tensorflow:Assets written to: models\\model-007.model\\assets\n"
     ]
    },
    {
     "name": "stdout",
     "output_type": "stream",
     "text": [
      "49/49 [==============================] - 1s 14ms/step - loss: 0.3858 - accuracy: 0.8314 - val_loss: 0.3782 - val_accuracy: 0.8409\n",
      "Epoch 8/500\n",
      "29/49 [================>.............] - ETA: 0s - loss: 0.3695 - accuracy: 0.8556INFO:tensorflow:Assets written to: models\\model-008.model\\assets\n"
     ]
    },
    {
     "name": "stderr",
     "output_type": "stream",
     "text": [
      "INFO:tensorflow:Assets written to: models\\model-008.model\\assets\n"
     ]
    },
    {
     "name": "stdout",
     "output_type": "stream",
     "text": [
      "49/49 [==============================] - 1s 14ms/step - loss: 0.3829 - accuracy: 0.8365 - val_loss: 0.3736 - val_accuracy: 0.8409\n",
      "Epoch 9/500\n",
      "26/49 [==============>...............] - ETA: 0s - loss: 0.3406 - accuracy: 0.8750INFO:tensorflow:Assets written to: models\\model-009.model\\assets\n"
     ]
    },
    {
     "name": "stderr",
     "output_type": "stream",
     "text": [
      "INFO:tensorflow:Assets written to: models\\model-009.model\\assets\n"
     ]
    },
    {
     "name": "stdout",
     "output_type": "stream",
     "text": [
      "49/49 [==============================] - 1s 14ms/step - loss: 0.3825 - accuracy: 0.8391 - val_loss: 0.3639 - val_accuracy: 0.8523\n",
      "Epoch 10/500\n",
      "27/49 [===============>..............] - ETA: 0s - loss: 0.4074 - accuracy: 0.8333INFO:tensorflow:Assets written to: models\\model-010.model\\assets\n"
     ]
    },
    {
     "name": "stderr",
     "output_type": "stream",
     "text": [
      "INFO:tensorflow:Assets written to: models\\model-010.model\\assets\n"
     ]
    },
    {
     "name": "stdout",
     "output_type": "stream",
     "text": [
      "49/49 [==============================] - 1s 14ms/step - loss: 0.3749 - accuracy: 0.8570 - val_loss: 0.3487 - val_accuracy: 0.8636\n",
      "Epoch 11/500\n",
      "26/49 [==============>...............] - ETA: 0s - loss: 0.3654 - accuracy: 0.8462INFO:tensorflow:Assets written to: models\\model-011.model\\assets\n"
     ]
    },
    {
     "name": "stderr",
     "output_type": "stream",
     "text": [
      "INFO:tensorflow:Assets written to: models\\model-011.model\\assets\n"
     ]
    },
    {
     "name": "stdout",
     "output_type": "stream",
     "text": [
      "49/49 [==============================] - 1s 14ms/step - loss: 0.3675 - accuracy: 0.8480 - val_loss: 0.3428 - val_accuracy: 0.8523\n",
      "Epoch 12/500\n",
      "26/49 [==============>...............] - ETA: 0s - loss: 0.3652 - accuracy: 0.8413INFO:tensorflow:Assets written to: models\\model-012.model\\assets\n"
     ]
    },
    {
     "name": "stderr",
     "output_type": "stream",
     "text": [
      "INFO:tensorflow:Assets written to: models\\model-012.model\\assets\n"
     ]
    },
    {
     "name": "stdout",
     "output_type": "stream",
     "text": [
      "49/49 [==============================] - 1s 18ms/step - loss: 0.3561 - accuracy: 0.8570 - val_loss: 0.3395 - val_accuracy: 0.8636\n",
      "Epoch 13/500\n",
      "49/49 [==============================] - 0s 3ms/step - loss: 0.3457 - accuracy: 0.8455 - val_loss: 0.3435 - val_accuracy: 0.8295\n",
      "Epoch 14/500\n",
      "25/49 [==============>...............] - ETA: 0s - loss: 0.3299 - accuracy: 0.8500INFO:tensorflow:Assets written to: models\\model-014.model\\assets\n"
     ]
    },
    {
     "name": "stderr",
     "output_type": "stream",
     "text": [
      "INFO:tensorflow:Assets written to: models\\model-014.model\\assets\n"
     ]
    },
    {
     "name": "stdout",
     "output_type": "stream",
     "text": [
      "49/49 [==============================] - 1s 14ms/step - loss: 0.3477 - accuracy: 0.8467 - val_loss: 0.3219 - val_accuracy: 0.8523\n",
      "Epoch 15/500\n",
      "47/49 [===========================>..] - ETA: 0s - loss: 0.3373 - accuracy: 0.8471INFO:tensorflow:Assets written to: models\\model-015.model\\assets\n"
     ]
    },
    {
     "name": "stderr",
     "output_type": "stream",
     "text": [
      "INFO:tensorflow:Assets written to: models\\model-015.model\\assets\n"
     ]
    },
    {
     "name": "stdout",
     "output_type": "stream",
     "text": [
      "49/49 [==============================] - 1s 14ms/step - loss: 0.3374 - accuracy: 0.8467 - val_loss: 0.3188 - val_accuracy: 0.8636\n",
      "Epoch 16/500\n",
      "49/49 [==============================] - 0s 3ms/step - loss: 0.3360 - accuracy: 0.8544 - val_loss: 0.3237 - val_accuracy: 0.8636\n",
      "Epoch 17/500\n",
      "29/49 [================>.............] - ETA: 0s - loss: 0.3432 - accuracy: 0.8621INFO:tensorflow:Assets written to: models\\model-017.model\\assets\n"
     ]
    },
    {
     "name": "stderr",
     "output_type": "stream",
     "text": [
      "INFO:tensorflow:Assets written to: models\\model-017.model\\assets\n"
     ]
    },
    {
     "name": "stdout",
     "output_type": "stream",
     "text": [
      "49/49 [==============================] - 1s 13ms/step - loss: 0.3318 - accuracy: 0.8595 - val_loss: 0.3120 - val_accuracy: 0.8636\n",
      "Epoch 18/500\n",
      "49/49 [==============================] - 0s 3ms/step - loss: 0.3278 - accuracy: 0.8595 - val_loss: 0.3151 - val_accuracy: 0.8864\n",
      "Epoch 19/500\n",
      "30/49 [=================>............] - ETA: 0s - loss: 0.3228 - accuracy: 0.8625INFO:tensorflow:Assets written to: models\\model-019.model\\assets\n"
     ]
    },
    {
     "name": "stderr",
     "output_type": "stream",
     "text": [
      "INFO:tensorflow:Assets written to: models\\model-019.model\\assets\n"
     ]
    },
    {
     "name": "stdout",
     "output_type": "stream",
     "text": [
      "49/49 [==============================] - 1s 14ms/step - loss: 0.3295 - accuracy: 0.8608 - val_loss: 0.2996 - val_accuracy: 0.8750\n",
      "Epoch 20/500\n",
      "27/49 [===============>..............] - ETA: 0s - loss: 0.3202 - accuracy: 0.8681INFO:tensorflow:Assets written to: models\\model-020.model\\assets\n"
     ]
    },
    {
     "name": "stderr",
     "output_type": "stream",
     "text": [
      "INFO:tensorflow:Assets written to: models\\model-020.model\\assets\n"
     ]
    },
    {
     "name": "stdout",
     "output_type": "stream",
     "text": [
      "49/49 [==============================] - 1s 14ms/step - loss: 0.3200 - accuracy: 0.8685 - val_loss: 0.2985 - val_accuracy: 0.8864\n",
      "Epoch 21/500\n",
      "27/49 [===============>..............] - ETA: 0s - loss: 0.3056 - accuracy: 0.8843INFO:tensorflow:Assets written to: models\\model-021.model\\assets\n"
     ]
    },
    {
     "name": "stderr",
     "output_type": "stream",
     "text": [
      "INFO:tensorflow:Assets written to: models\\model-021.model\\assets\n"
     ]
    },
    {
     "name": "stdout",
     "output_type": "stream",
     "text": [
      "49/49 [==============================] - 1s 14ms/step - loss: 0.3102 - accuracy: 0.8787 - val_loss: 0.2808 - val_accuracy: 0.8636\n",
      "Epoch 22/500\n",
      "49/49 [==============================] - 0s 3ms/step - loss: 0.3121 - accuracy: 0.8685 - val_loss: 0.3042 - val_accuracy: 0.8977\n",
      "Epoch 23/500\n",
      "45/49 [==========================>...] - ETA: 0s - loss: 0.2858 - accuracy: 0.8847INFO:tensorflow:Assets written to: models\\model-023.model\\assets\n"
     ]
    },
    {
     "name": "stderr",
     "output_type": "stream",
     "text": [
      "INFO:tensorflow:Assets written to: models\\model-023.model\\assets\n"
     ]
    },
    {
     "name": "stdout",
     "output_type": "stream",
     "text": [
      "49/49 [==============================] - 1s 14ms/step - loss: 0.2876 - accuracy: 0.8799 - val_loss: 0.2684 - val_accuracy: 0.8636\n",
      "Epoch 24/500\n",
      "49/49 [==============================] - 0s 3ms/step - loss: 0.2973 - accuracy: 0.8723 - val_loss: 0.2711 - val_accuracy: 0.8864\n",
      "Epoch 25/500\n",
      "29/49 [================>.............] - ETA: 0s - loss: 0.2715 - accuracy: 0.8901INFO:tensorflow:Assets written to: models\\model-025.model\\assets\n"
     ]
    },
    {
     "name": "stderr",
     "output_type": "stream",
     "text": [
      "INFO:tensorflow:Assets written to: models\\model-025.model\\assets\n"
     ]
    },
    {
     "name": "stdout",
     "output_type": "stream",
     "text": [
      "49/49 [==============================] - 1s 14ms/step - loss: 0.2907 - accuracy: 0.8761 - val_loss: 0.2651 - val_accuracy: 0.8977\n",
      "Epoch 26/500\n",
      "49/49 [==============================] - 0s 2ms/step - loss: 0.2971 - accuracy: 0.8799 - val_loss: 0.2659 - val_accuracy: 0.8864\n",
      "Epoch 27/500\n",
      "30/49 [=================>............] - ETA: 0s - loss: 0.2871 - accuracy: 0.8813INFO:tensorflow:Assets written to: models\\model-027.model\\assets\n"
     ]
    },
    {
     "name": "stderr",
     "output_type": "stream",
     "text": [
      "INFO:tensorflow:Assets written to: models\\model-027.model\\assets\n"
     ]
    },
    {
     "name": "stdout",
     "output_type": "stream",
     "text": [
      "49/49 [==============================] - 1s 18ms/step - loss: 0.2888 - accuracy: 0.8799 - val_loss: 0.2614 - val_accuracy: 0.9091\n",
      "Epoch 28/500\n",
      "25/49 [==============>...............] - ETA: 0s - loss: 0.2897 - accuracy: 0.8925INFO:tensorflow:Assets written to: models\\model-028.model\\assets\n"
     ]
    },
    {
     "name": "stderr",
     "output_type": "stream",
     "text": [
      "INFO:tensorflow:Assets written to: models\\model-028.model\\assets\n"
     ]
    },
    {
     "name": "stdout",
     "output_type": "stream",
     "text": [
      "49/49 [==============================] - 1s 15ms/step - loss: 0.2812 - accuracy: 0.8966 - val_loss: 0.2572 - val_accuracy: 0.8977\n",
      "Epoch 29/500\n",
      "25/49 [==============>...............] - ETA: 0s - loss: 0.2694 - accuracy: 0.9025INFO:tensorflow:Assets written to: models\\model-029.model\\assets\n"
     ]
    },
    {
     "name": "stderr",
     "output_type": "stream",
     "text": [
      "INFO:tensorflow:Assets written to: models\\model-029.model\\assets\n"
     ]
    },
    {
     "name": "stdout",
     "output_type": "stream",
     "text": [
      "49/49 [==============================] - 1s 15ms/step - loss: 0.2713 - accuracy: 0.8914 - val_loss: 0.2517 - val_accuracy: 0.8864\n",
      "Epoch 30/500\n",
      "49/49 [==============================] - 0s 3ms/step - loss: 0.2701 - accuracy: 0.8991 - val_loss: 0.2527 - val_accuracy: 0.8977\n",
      "Epoch 31/500\n",
      "30/49 [=================>............] - ETA: 0s - loss: 0.2719 - accuracy: 0.8875INFO:tensorflow:Assets written to: models\\model-031.model\\assets\n"
     ]
    },
    {
     "name": "stderr",
     "output_type": "stream",
     "text": [
      "INFO:tensorflow:Assets written to: models\\model-031.model\\assets\n"
     ]
    },
    {
     "name": "stdout",
     "output_type": "stream",
     "text": [
      "49/49 [==============================] - 1s 14ms/step - loss: 0.2625 - accuracy: 0.8953 - val_loss: 0.2393 - val_accuracy: 0.9091\n",
      "Epoch 32/500\n",
      "43/49 [=========================>....] - ETA: 0s - loss: 0.2627 - accuracy: 0.8939INFO:tensorflow:Assets written to: models\\model-032.model\\assets\n"
     ]
    },
    {
     "name": "stderr",
     "output_type": "stream",
     "text": [
      "INFO:tensorflow:Assets written to: models\\model-032.model\\assets\n"
     ]
    },
    {
     "name": "stdout",
     "output_type": "stream",
     "text": [
      "49/49 [==============================] - 1s 15ms/step - loss: 0.2781 - accuracy: 0.8851 - val_loss: 0.2345 - val_accuracy: 0.9091\n",
      "Epoch 33/500\n",
      "49/49 [==============================] - 0s 3ms/step - loss: 0.2752 - accuracy: 0.8838 - val_loss: 0.2373 - val_accuracy: 0.9091\n",
      "Epoch 34/500\n",
      "49/49 [==============================] - 0s 3ms/step - loss: 0.2521 - accuracy: 0.9004 - val_loss: 0.2402 - val_accuracy: 0.9205\n",
      "Epoch 35/500\n",
      "33/49 [===================>..........] - ETA: 0s - loss: 0.2487 - accuracy: 0.9091INFO:tensorflow:Assets written to: models\\model-035.model\\assets\n"
     ]
    },
    {
     "name": "stderr",
     "output_type": "stream",
     "text": [
      "INFO:tensorflow:Assets written to: models\\model-035.model\\assets\n"
     ]
    },
    {
     "name": "stdout",
     "output_type": "stream",
     "text": [
      "49/49 [==============================] - 1s 13ms/step - loss: 0.2570 - accuracy: 0.9042 - val_loss: 0.2186 - val_accuracy: 0.8977\n",
      "Epoch 36/500\n",
      "49/49 [==============================] - 0s 3ms/step - loss: 0.2640 - accuracy: 0.8774 - val_loss: 0.2207 - val_accuracy: 0.9205\n",
      "Epoch 37/500\n",
      "49/49 [==============================] - 0s 3ms/step - loss: 0.2519 - accuracy: 0.8978 - val_loss: 0.2286 - val_accuracy: 0.8977\n",
      "Epoch 38/500\n",
      "49/49 [==============================] - 0s 3ms/step - loss: 0.2512 - accuracy: 0.8966 - val_loss: 0.2267 - val_accuracy: 0.8977\n",
      "Epoch 39/500\n",
      "49/49 [==============================] - 0s 2ms/step - loss: 0.2452 - accuracy: 0.9004 - val_loss: 0.2257 - val_accuracy: 0.9205\n",
      "Epoch 40/500\n",
      "26/49 [==============>...............] - ETA: 0s - loss: 0.2597 - accuracy: 0.8894INFO:tensorflow:Assets written to: models\\model-040.model\\assets\n"
     ]
    },
    {
     "name": "stderr",
     "output_type": "stream",
     "text": [
      "INFO:tensorflow:Assets written to: models\\model-040.model\\assets\n"
     ]
    },
    {
     "name": "stdout",
     "output_type": "stream",
     "text": [
      "49/49 [==============================] - 1s 14ms/step - loss: 0.2422 - accuracy: 0.9042 - val_loss: 0.2165 - val_accuracy: 0.9091\n",
      "Epoch 41/500\n",
      "26/49 [==============>...............] - ETA: 0s - loss: 0.2679 - accuracy: 0.8870INFO:tensorflow:Assets written to: models\\model-041.model\\assets\n"
     ]
    },
    {
     "name": "stderr",
     "output_type": "stream",
     "text": [
      "INFO:tensorflow:Assets written to: models\\model-041.model\\assets\n"
     ]
    },
    {
     "name": "stdout",
     "output_type": "stream",
     "text": [
      "49/49 [==============================] - 1s 14ms/step - loss: 0.2331 - accuracy: 0.9029 - val_loss: 0.2084 - val_accuracy: 0.9091\n",
      "Epoch 42/500\n",
      "30/49 [=================>............] - ETA: 0s - loss: 0.2512 - accuracy: 0.9000INFO:tensorflow:Assets written to: models\\model-042.model\\assets\n"
     ]
    },
    {
     "name": "stderr",
     "output_type": "stream",
     "text": [
      "INFO:tensorflow:Assets written to: models\\model-042.model\\assets\n"
     ]
    },
    {
     "name": "stdout",
     "output_type": "stream",
     "text": [
      "49/49 [==============================] - 1s 14ms/step - loss: 0.2487 - accuracy: 0.8966 - val_loss: 0.1992 - val_accuracy: 0.9091\n",
      "Epoch 43/500\n",
      "49/49 [==============================] - 0s 3ms/step - loss: 0.2494 - accuracy: 0.8927 - val_loss: 0.2320 - val_accuracy: 0.8864\n",
      "Epoch 44/500\n",
      "30/49 [=================>............] - ETA: 0s - loss: 0.2504 - accuracy: 0.8938INFO:tensorflow:Assets written to: models\\model-044.model\\assets\n"
     ]
    },
    {
     "name": "stderr",
     "output_type": "stream",
     "text": [
      "INFO:tensorflow:Assets written to: models\\model-044.model\\assets\n"
     ]
    },
    {
     "name": "stdout",
     "output_type": "stream",
     "text": [
      "49/49 [==============================] - 1s 13ms/step - loss: 0.2282 - accuracy: 0.9055 - val_loss: 0.1987 - val_accuracy: 0.8977\n",
      "Epoch 45/500\n",
      "49/49 [==============================] - 0s 3ms/step - loss: 0.2195 - accuracy: 0.9132 - val_loss: 0.1988 - val_accuracy: 0.9432\n",
      "Epoch 46/500\n",
      "49/49 [==============================] - 0s 3ms/step - loss: 0.2303 - accuracy: 0.9042 - val_loss: 0.2461 - val_accuracy: 0.9318\n",
      "Epoch 47/500\n",
      "49/49 [==============================] - 0s 3ms/step - loss: 0.2178 - accuracy: 0.9119 - val_loss: 0.2043 - val_accuracy: 0.8977\n",
      "Epoch 48/500\n",
      "31/49 [=================>............] - ETA: 0s - loss: 0.2614 - accuracy: 0.8790INFO:tensorflow:Assets written to: models\\model-048.model\\assets\n"
     ]
    },
    {
     "name": "stderr",
     "output_type": "stream",
     "text": [
      "INFO:tensorflow:Assets written to: models\\model-048.model\\assets\n"
     ]
    },
    {
     "name": "stdout",
     "output_type": "stream",
     "text": [
      "49/49 [==============================] - 1s 15ms/step - loss: 0.2360 - accuracy: 0.8966 - val_loss: 0.1955 - val_accuracy: 0.8864\n",
      "Epoch 49/500\n",
      "26/49 [==============>...............] - ETA: 0s - loss: 0.2132 - accuracy: 0.9038INFO:tensorflow:Assets written to: models\\model-049.model\\assets\n"
     ]
    },
    {
     "name": "stderr",
     "output_type": "stream",
     "text": [
      "INFO:tensorflow:Assets written to: models\\model-049.model\\assets\n"
     ]
    },
    {
     "name": "stdout",
     "output_type": "stream",
     "text": [
      "49/49 [==============================] - 1s 18ms/step - loss: 0.2104 - accuracy: 0.9068 - val_loss: 0.1890 - val_accuracy: 0.9205\n",
      "Epoch 50/500\n",
      "49/49 [==============================] - 0s 2ms/step - loss: 0.2296 - accuracy: 0.9017 - val_loss: 0.2080 - val_accuracy: 0.8977\n",
      "Epoch 51/500\n",
      "29/49 [================>.............] - ETA: 0s - loss: 0.1611 - accuracy: 0.9332INFO:tensorflow:Assets written to: models\\model-051.model\\assets\n"
     ]
    },
    {
     "name": "stderr",
     "output_type": "stream",
     "text": [
      "INFO:tensorflow:Assets written to: models\\model-051.model\\assets\n"
     ]
    },
    {
     "name": "stdout",
     "output_type": "stream",
     "text": [
      "49/49 [==============================] - 1s 14ms/step - loss: 0.2009 - accuracy: 0.9144 - val_loss: 0.1859 - val_accuracy: 0.8977\n",
      "Epoch 52/500\n",
      "49/49 [==============================] - 0s 3ms/step - loss: 0.1935 - accuracy: 0.9246 - val_loss: 0.1927 - val_accuracy: 0.9318\n",
      "Epoch 53/500\n",
      "26/49 [==============>...............] - ETA: 0s - loss: 0.2087 - accuracy: 0.9111INFO:tensorflow:Assets written to: models\\model-053.model\\assets\n"
     ]
    },
    {
     "name": "stderr",
     "output_type": "stream",
     "text": [
      "INFO:tensorflow:Assets written to: models\\model-053.model\\assets\n"
     ]
    },
    {
     "name": "stdout",
     "output_type": "stream",
     "text": [
      "49/49 [==============================] - 1s 14ms/step - loss: 0.2123 - accuracy: 0.9080 - val_loss: 0.1832 - val_accuracy: 0.9205\n",
      "Epoch 54/500\n",
      "26/49 [==============>...............] - ETA: 0s - loss: 0.2057 - accuracy: 0.9159INFO:tensorflow:Assets written to: models\\model-054.model\\assets\n"
     ]
    },
    {
     "name": "stderr",
     "output_type": "stream",
     "text": [
      "INFO:tensorflow:Assets written to: models\\model-054.model\\assets\n"
     ]
    },
    {
     "name": "stdout",
     "output_type": "stream",
     "text": [
      "49/49 [==============================] - 1s 14ms/step - loss: 0.2040 - accuracy: 0.9221 - val_loss: 0.1815 - val_accuracy: 0.8977\n",
      "Epoch 55/500\n",
      "49/49 [==============================] - 0s 3ms/step - loss: 0.1846 - accuracy: 0.9285 - val_loss: 0.1952 - val_accuracy: 0.9091\n",
      "Epoch 56/500\n",
      "49/49 [==============================] - 0s 2ms/step - loss: 0.2028 - accuracy: 0.9132 - val_loss: 0.1830 - val_accuracy: 0.9091\n",
      "Epoch 57/500\n",
      "29/49 [================>.............] - ETA: 0s - loss: 0.1944 - accuracy: 0.9203INFO:tensorflow:Assets written to: models\\model-057.model\\assets\n"
     ]
    },
    {
     "name": "stderr",
     "output_type": "stream",
     "text": [
      "INFO:tensorflow:Assets written to: models\\model-057.model\\assets\n"
     ]
    },
    {
     "name": "stdout",
     "output_type": "stream",
     "text": [
      "49/49 [==============================] - 1s 13ms/step - loss: 0.1906 - accuracy: 0.9285 - val_loss: 0.1806 - val_accuracy: 0.8864\n",
      "Epoch 58/500\n",
      "28/49 [================>.............] - ETA: 0s - loss: 0.1660 - accuracy: 0.9263INFO:tensorflow:Assets written to: models\\model-058.model\\assets\n"
     ]
    },
    {
     "name": "stderr",
     "output_type": "stream",
     "text": [
      "INFO:tensorflow:Assets written to: models\\model-058.model\\assets\n"
     ]
    },
    {
     "name": "stdout",
     "output_type": "stream",
     "text": [
      "49/49 [==============================] - 1s 14ms/step - loss: 0.1904 - accuracy: 0.9183 - val_loss: 0.1699 - val_accuracy: 0.9545\n",
      "Epoch 59/500\n",
      "49/49 [==============================] - 0s 3ms/step - loss: 0.1994 - accuracy: 0.9170 - val_loss: 0.1961 - val_accuracy: 0.8864\n",
      "Epoch 60/500\n",
      "49/49 [==============================] - 0s 2ms/step - loss: 0.1757 - accuracy: 0.9349 - val_loss: 0.1887 - val_accuracy: 0.8977\n",
      "Epoch 61/500\n",
      "49/49 [==============================] - 0s 3ms/step - loss: 0.1923 - accuracy: 0.9246 - val_loss: 0.1752 - val_accuracy: 0.8864\n",
      "Epoch 62/500\n",
      "49/49 [==============================] - 0s 2ms/step - loss: 0.1929 - accuracy: 0.9157 - val_loss: 0.1830 - val_accuracy: 0.8750\n",
      "Epoch 63/500\n",
      "49/49 [==============================] - 0s 3ms/step - loss: 0.1912 - accuracy: 0.9195 - val_loss: 0.1743 - val_accuracy: 0.9205\n",
      "Epoch 64/500\n",
      "49/49 [==============================] - 0s 2ms/step - loss: 0.1931 - accuracy: 0.9144 - val_loss: 0.1743 - val_accuracy: 0.8864\n",
      "Epoch 65/500\n",
      "49/49 [==============================] - 0s 2ms/step - loss: 0.1639 - accuracy: 0.9285 - val_loss: 0.1734 - val_accuracy: 0.9318\n",
      "Epoch 66/500\n",
      "30/49 [=================>............] - ETA: 0s - loss: 0.1950 - accuracy: 0.9187INFO:tensorflow:Assets written to: models\\model-066.model\\assets\n"
     ]
    },
    {
     "name": "stderr",
     "output_type": "stream",
     "text": [
      "INFO:tensorflow:Assets written to: models\\model-066.model\\assets\n"
     ]
    },
    {
     "name": "stdout",
     "output_type": "stream",
     "text": [
      "49/49 [==============================] - 1s 14ms/step - loss: 0.1783 - accuracy: 0.9259 - val_loss: 0.1659 - val_accuracy: 0.9318\n",
      "Epoch 67/500\n",
      "49/49 [==============================] - 0s 3ms/step - loss: 0.1830 - accuracy: 0.9170 - val_loss: 0.1673 - val_accuracy: 0.8864\n",
      "Epoch 68/500\n",
      "49/49 [==============================] - 0s 2ms/step - loss: 0.1756 - accuracy: 0.9208 - val_loss: 0.1843 - val_accuracy: 0.9318\n",
      "Epoch 69/500\n",
      "49/49 [==============================] - 0s 2ms/step - loss: 0.1716 - accuracy: 0.9259 - val_loss: 0.1685 - val_accuracy: 0.8864\n",
      "Epoch 70/500\n",
      "26/49 [==============>...............] - ETA: 0s - loss: 0.1746 - accuracy: 0.9399INFO:tensorflow:Assets written to: models\\model-070.model\\assets\n"
     ]
    },
    {
     "name": "stderr",
     "output_type": "stream",
     "text": [
      "INFO:tensorflow:Assets written to: models\\model-070.model\\assets\n"
     ]
    },
    {
     "name": "stdout",
     "output_type": "stream",
     "text": [
      "49/49 [==============================] - 1s 14ms/step - loss: 0.1723 - accuracy: 0.9246 - val_loss: 0.1588 - val_accuracy: 0.9205\n",
      "Epoch 71/500\n",
      "49/49 [==============================] - 0s 3ms/step - loss: 0.1699 - accuracy: 0.9285 - val_loss: 0.1669 - val_accuracy: 0.9205\n",
      "Epoch 72/500\n",
      "47/49 [===========================>..] - ETA: 0s - loss: 0.1654 - accuracy: 0.9375INFO:tensorflow:Assets written to: models\\model-072.model\\assets\n"
     ]
    },
    {
     "name": "stderr",
     "output_type": "stream",
     "text": [
      "INFO:tensorflow:Assets written to: models\\model-072.model\\assets\n"
     ]
    },
    {
     "name": "stdout",
     "output_type": "stream",
     "text": [
      "49/49 [==============================] - 1s 16ms/step - loss: 0.1651 - accuracy: 0.9374 - val_loss: 0.1537 - val_accuracy: 0.9318\n",
      "Epoch 73/500\n",
      "49/49 [==============================] - 0s 2ms/step - loss: 0.1585 - accuracy: 0.9387 - val_loss: 0.1610 - val_accuracy: 0.9205\n",
      "Epoch 74/500\n",
      "49/49 [==============================] - 0s 3ms/step - loss: 0.1724 - accuracy: 0.9298 - val_loss: 0.1583 - val_accuracy: 0.9432\n",
      "Epoch 75/500\n",
      "49/49 [==============================] - 0s 2ms/step - loss: 0.1532 - accuracy: 0.9413 - val_loss: 0.1755 - val_accuracy: 0.9091\n",
      "Epoch 76/500\n",
      "49/49 [==============================] - 0s 2ms/step - loss: 0.1768 - accuracy: 0.9298 - val_loss: 0.1773 - val_accuracy: 0.9091\n",
      "Epoch 77/500\n",
      "49/49 [==============================] - 0s 2ms/step - loss: 0.1659 - accuracy: 0.9259 - val_loss: 0.1622 - val_accuracy: 0.9318\n",
      "Epoch 78/500\n",
      "49/49 [==============================] - 0s 2ms/step - loss: 0.1663 - accuracy: 0.9310 - val_loss: 0.1856 - val_accuracy: 0.8864\n",
      "Epoch 79/500\n",
      "49/49 [==============================] - 0s 3ms/step - loss: 0.1614 - accuracy: 0.9298 - val_loss: 0.1695 - val_accuracy: 0.8977\n",
      "Epoch 80/500\n",
      "49/49 [==============================] - 0s 3ms/step - loss: 0.1603 - accuracy: 0.9323 - val_loss: 0.1729 - val_accuracy: 0.8977\n",
      "Epoch 81/500\n",
      "49/49 [==============================] - 0s 2ms/step - loss: 0.1547 - accuracy: 0.9323 - val_loss: 0.1771 - val_accuracy: 0.9432\n",
      "Epoch 82/500\n",
      "49/49 [==============================] - 0s 3ms/step - loss: 0.1526 - accuracy: 0.9323 - val_loss: 0.1652 - val_accuracy: 0.9205\n",
      "Epoch 83/500\n",
      "49/49 [==============================] - 0s 2ms/step - loss: 0.1543 - accuracy: 0.9323 - val_loss: 0.1597 - val_accuracy: 0.9205\n",
      "Epoch 84/500\n",
      "49/49 [==============================] - 0s 2ms/step - loss: 0.1608 - accuracy: 0.9336 - val_loss: 0.1702 - val_accuracy: 0.9205\n",
      "Epoch 85/500\n",
      "33/49 [===================>..........] - ETA: 0s - loss: 0.1323 - accuracy: 0.9394INFO:tensorflow:Assets written to: models\\model-085.model\\assets\n"
     ]
    },
    {
     "name": "stderr",
     "output_type": "stream",
     "text": [
      "INFO:tensorflow:Assets written to: models\\model-085.model\\assets\n"
     ]
    },
    {
     "name": "stdout",
     "output_type": "stream",
     "text": [
      "49/49 [==============================] - 1s 18ms/step - loss: 0.1392 - accuracy: 0.9438 - val_loss: 0.1517 - val_accuracy: 0.9318\n",
      "Epoch 86/500\n",
      "49/49 [==============================] - 0s 2ms/step - loss: 0.1728 - accuracy: 0.9234 - val_loss: 0.1758 - val_accuracy: 0.9432\n",
      "Epoch 87/500\n",
      "49/49 [==============================] - 0s 2ms/step - loss: 0.1543 - accuracy: 0.9285 - val_loss: 0.1565 - val_accuracy: 0.9091\n",
      "Epoch 88/500\n",
      "49/49 [==============================] - 0s 2ms/step - loss: 0.1578 - accuracy: 0.9336 - val_loss: 0.1553 - val_accuracy: 0.9205\n",
      "Epoch 89/500\n",
      "33/49 [===================>..........] - ETA: 0s - loss: 0.1452 - accuracy: 0.9432INFO:tensorflow:Assets written to: models\\model-089.model\\assets\n"
     ]
    },
    {
     "name": "stderr",
     "output_type": "stream",
     "text": [
      "INFO:tensorflow:Assets written to: models\\model-089.model\\assets\n"
     ]
    },
    {
     "name": "stdout",
     "output_type": "stream",
     "text": [
      "49/49 [==============================] - 1s 14ms/step - loss: 0.1399 - accuracy: 0.9464 - val_loss: 0.1424 - val_accuracy: 0.9205\n",
      "Epoch 90/500\n",
      "49/49 [==============================] - 0s 2ms/step - loss: 0.1495 - accuracy: 0.9361 - val_loss: 0.1523 - val_accuracy: 0.9432\n",
      "Epoch 91/500\n",
      "33/49 [===================>..........] - ETA: 0s - loss: 0.1396 - accuracy: 0.9451INFO:tensorflow:Assets written to: models\\model-091.model\\assets\n"
     ]
    },
    {
     "name": "stderr",
     "output_type": "stream",
     "text": [
      "INFO:tensorflow:Assets written to: models\\model-091.model\\assets\n"
     ]
    },
    {
     "name": "stdout",
     "output_type": "stream",
     "text": [
      "49/49 [==============================] - 1s 14ms/step - loss: 0.1403 - accuracy: 0.9413 - val_loss: 0.1399 - val_accuracy: 0.9432\n",
      "Epoch 92/500\n",
      "49/49 [==============================] - 0s 2ms/step - loss: 0.1451 - accuracy: 0.9374 - val_loss: 0.1476 - val_accuracy: 0.9091\n",
      "Epoch 93/500\n",
      "30/49 [=================>............] - ETA: 0s - loss: 0.1547 - accuracy: 0.9458INFO:tensorflow:Assets written to: models\\model-093.model\\assets\n"
     ]
    },
    {
     "name": "stderr",
     "output_type": "stream",
     "text": [
      "INFO:tensorflow:Assets written to: models\\model-093.model\\assets\n"
     ]
    },
    {
     "name": "stdout",
     "output_type": "stream",
     "text": [
      "49/49 [==============================] - 1s 13ms/step - loss: 0.1514 - accuracy: 0.9425 - val_loss: 0.1374 - val_accuracy: 0.9318\n",
      "Epoch 94/500\n",
      "49/49 [==============================] - 0s 2ms/step - loss: 0.1329 - accuracy: 0.9451 - val_loss: 0.1398 - val_accuracy: 0.9205\n",
      "Epoch 95/500\n",
      "49/49 [==============================] - 0s 2ms/step - loss: 0.1327 - accuracy: 0.9489 - val_loss: 0.1388 - val_accuracy: 0.9545\n",
      "Epoch 96/500\n",
      "29/49 [================>.............] - ETA: 0s - loss: 0.1130 - accuracy: 0.9591INFO:tensorflow:Assets written to: models\\model-096.model\\assets\n"
     ]
    },
    {
     "name": "stderr",
     "output_type": "stream",
     "text": [
      "INFO:tensorflow:Assets written to: models\\model-096.model\\assets\n"
     ]
    },
    {
     "name": "stdout",
     "output_type": "stream",
     "text": [
      "49/49 [==============================] - 1s 15ms/step - loss: 0.1201 - accuracy: 0.9527 - val_loss: 0.1350 - val_accuracy: 0.9432\n",
      "Epoch 97/500\n",
      "28/49 [================>.............] - ETA: 0s - loss: 0.1181 - accuracy: 0.9487INFO:tensorflow:Assets written to: models\\model-097.model\\assets\n"
     ]
    },
    {
     "name": "stderr",
     "output_type": "stream",
     "text": [
      "INFO:tensorflow:Assets written to: models\\model-097.model\\assets\n"
     ]
    },
    {
     "name": "stdout",
     "output_type": "stream",
     "text": [
      "49/49 [==============================] - 1s 14ms/step - loss: 0.1295 - accuracy: 0.9387 - val_loss: 0.1276 - val_accuracy: 0.9432\n",
      "Epoch 98/500\n",
      "49/49 [==============================] - 0s 2ms/step - loss: 0.1430 - accuracy: 0.9438 - val_loss: 0.1864 - val_accuracy: 0.8750\n",
      "Epoch 99/500\n",
      "49/49 [==============================] - 0s 3ms/step - loss: 0.1292 - accuracy: 0.9476 - val_loss: 0.1531 - val_accuracy: 0.9318\n",
      "Epoch 100/500\n",
      "34/49 [===================>..........] - ETA: 0s - loss: 0.1332 - accuracy: 0.9467INFO:tensorflow:Assets written to: models\\model-100.model\\assets\n"
     ]
    },
    {
     "name": "stderr",
     "output_type": "stream",
     "text": [
      "INFO:tensorflow:Assets written to: models\\model-100.model\\assets\n"
     ]
    },
    {
     "name": "stdout",
     "output_type": "stream",
     "text": [
      "49/49 [==============================] - 1s 14ms/step - loss: 0.1361 - accuracy: 0.9425 - val_loss: 0.1196 - val_accuracy: 0.9318\n",
      "Epoch 101/500\n",
      "49/49 [==============================] - 0s 4ms/step - loss: 0.1314 - accuracy: 0.9413 - val_loss: 0.1511 - val_accuracy: 0.9091\n",
      "Epoch 102/500\n",
      "49/49 [==============================] - 0s 4ms/step - loss: 0.1174 - accuracy: 0.9579 - val_loss: 0.1319 - val_accuracy: 0.9318\n",
      "Epoch 103/500\n",
      "49/49 [==============================] - 0s 3ms/step - loss: 0.1297 - accuracy: 0.9489 - val_loss: 0.1488 - val_accuracy: 0.9205\n",
      "Epoch 104/500\n",
      "49/49 [==============================] - 0s 3ms/step - loss: 0.1218 - accuracy: 0.9579 - val_loss: 0.1524 - val_accuracy: 0.9318\n",
      "Epoch 105/500\n",
      "49/49 [==============================] - 0s 3ms/step - loss: 0.1207 - accuracy: 0.9489 - val_loss: 0.1445 - val_accuracy: 0.9659\n",
      "Epoch 106/500\n",
      "49/49 [==============================] - 0s 3ms/step - loss: 0.1299 - accuracy: 0.9451 - val_loss: 0.1393 - val_accuracy: 0.9432\n",
      "Epoch 107/500\n",
      "49/49 [==============================] - 0s 3ms/step - loss: 0.1273 - accuracy: 0.9527 - val_loss: 0.1469 - val_accuracy: 0.9545\n",
      "Epoch 108/500\n",
      "49/49 [==============================] - 0s 3ms/step - loss: 0.1313 - accuracy: 0.9451 - val_loss: 0.1260 - val_accuracy: 0.9545\n",
      "Epoch 109/500\n",
      "49/49 [==============================] - 0s 3ms/step - loss: 0.1220 - accuracy: 0.9476 - val_loss: 0.1368 - val_accuracy: 0.9318\n",
      "Epoch 110/500\n",
      "49/49 [==============================] - 0s 3ms/step - loss: 0.1235 - accuracy: 0.9489 - val_loss: 0.1293 - val_accuracy: 0.9545\n",
      "Epoch 111/500\n",
      "49/49 [==============================] - 0s 3ms/step - loss: 0.1295 - accuracy: 0.9515 - val_loss: 0.1255 - val_accuracy: 0.9432\n",
      "Epoch 112/500\n",
      "49/49 [==============================] - 0s 2ms/step - loss: 0.1184 - accuracy: 0.9502 - val_loss: 0.1619 - val_accuracy: 0.9545\n",
      "Epoch 113/500\n",
      "49/49 [==============================] - 0s 2ms/step - loss: 0.1108 - accuracy: 0.9604 - val_loss: 0.1316 - val_accuracy: 0.9432\n",
      "Epoch 114/500\n",
      "49/49 [==============================] - 0s 3ms/step - loss: 0.1105 - accuracy: 0.9515 - val_loss: 0.1276 - val_accuracy: 0.9318\n",
      "Epoch 115/500\n",
      "49/49 [==============================] - 0s 3ms/step - loss: 0.1153 - accuracy: 0.9553 - val_loss: 0.1247 - val_accuracy: 0.9659\n",
      "Epoch 116/500\n",
      "49/49 [==============================] - 0s 2ms/step - loss: 0.1017 - accuracy: 0.9579 - val_loss: 0.1520 - val_accuracy: 0.8977\n",
      "Epoch 117/500\n",
      "49/49 [==============================] - 0s 3ms/step - loss: 0.0954 - accuracy: 0.9566 - val_loss: 0.1265 - val_accuracy: 0.9659\n",
      "Epoch 118/500\n",
      "49/49 [==============================] - 0s 2ms/step - loss: 0.1067 - accuracy: 0.9579 - val_loss: 0.1290 - val_accuracy: 0.9659\n",
      "Epoch 119/500\n",
      "26/49 [==============>...............] - ETA: 0s - loss: 0.1403 - accuracy: 0.9375INFO:tensorflow:Assets written to: models\\model-119.model\\assets\n"
     ]
    },
    {
     "name": "stderr",
     "output_type": "stream",
     "text": [
      "INFO:tensorflow:Assets written to: models\\model-119.model\\assets\n"
     ]
    },
    {
     "name": "stdout",
     "output_type": "stream",
     "text": [
      "49/49 [==============================] - 1s 15ms/step - loss: 0.1196 - accuracy: 0.9502 - val_loss: 0.1009 - val_accuracy: 0.9432\n",
      "Epoch 120/500\n",
      "49/49 [==============================] - 0s 3ms/step - loss: 0.1037 - accuracy: 0.9591 - val_loss: 0.1174 - val_accuracy: 0.9318\n",
      "Epoch 121/500\n",
      "49/49 [==============================] - 0s 3ms/step - loss: 0.0923 - accuracy: 0.9630 - val_loss: 0.1123 - val_accuracy: 0.9318\n",
      "Epoch 122/500\n",
      "49/49 [==============================] - 0s 3ms/step - loss: 0.0995 - accuracy: 0.9604 - val_loss: 0.1104 - val_accuracy: 0.9659\n",
      "Epoch 123/500\n",
      "49/49 [==============================] - 0s 3ms/step - loss: 0.1213 - accuracy: 0.9553 - val_loss: 0.1146 - val_accuracy: 0.9545\n",
      "Epoch 124/500\n",
      "49/49 [==============================] - 0s 3ms/step - loss: 0.1019 - accuracy: 0.9579 - val_loss: 0.1133 - val_accuracy: 0.9318\n",
      "Epoch 125/500\n",
      "49/49 [==============================] - 0s 3ms/step - loss: 0.1096 - accuracy: 0.9604 - val_loss: 0.1018 - val_accuracy: 0.9773\n",
      "Epoch 126/500\n",
      "49/49 [==============================] - 0s 3ms/step - loss: 0.1317 - accuracy: 0.9540 - val_loss: 0.1109 - val_accuracy: 0.9318\n",
      "Epoch 127/500\n",
      "49/49 [==============================] - 0s 3ms/step - loss: 0.1192 - accuracy: 0.9515 - val_loss: 0.1026 - val_accuracy: 0.9545\n",
      "Epoch 128/500\n",
      "27/49 [===============>..............] - ETA: 0s - loss: 0.1005 - accuracy: 0.9583INFO:tensorflow:Assets written to: models\\model-128.model\\assets\n"
     ]
    },
    {
     "name": "stderr",
     "output_type": "stream",
     "text": [
      "INFO:tensorflow:Assets written to: models\\model-128.model\\assets\n"
     ]
    },
    {
     "name": "stdout",
     "output_type": "stream",
     "text": [
      "49/49 [==============================] - 1s 20ms/step - loss: 0.0918 - accuracy: 0.9655 - val_loss: 0.0937 - val_accuracy: 0.9545\n",
      "Epoch 129/500\n",
      "49/49 [==============================] - 0s 3ms/step - loss: 0.1034 - accuracy: 0.9604 - val_loss: 0.1088 - val_accuracy: 0.9659\n",
      "Epoch 130/500\n",
      "49/49 [==============================] - 0s 3ms/step - loss: 0.0938 - accuracy: 0.9642 - val_loss: 0.1148 - val_accuracy: 0.9545\n",
      "Epoch 131/500\n",
      "49/49 [==============================] - 0s 3ms/step - loss: 0.0858 - accuracy: 0.9655 - val_loss: 0.1528 - val_accuracy: 0.8864\n",
      "Epoch 132/500\n",
      "49/49 [==============================] - 0s 3ms/step - loss: 0.0954 - accuracy: 0.9681 - val_loss: 0.1124 - val_accuracy: 0.9318\n",
      "Epoch 133/500\n",
      "49/49 [==============================] - 0s 3ms/step - loss: 0.0899 - accuracy: 0.9642 - val_loss: 0.1045 - val_accuracy: 0.9432\n",
      "Epoch 134/500\n",
      "49/49 [==============================] - 0s 3ms/step - loss: 0.1129 - accuracy: 0.9540 - val_loss: 0.1040 - val_accuracy: 0.9545\n",
      "Epoch 135/500\n",
      "49/49 [==============================] - 0s 3ms/step - loss: 0.0906 - accuracy: 0.9655 - val_loss: 0.1069 - val_accuracy: 0.9659\n",
      "Epoch 136/500\n",
      "49/49 [==============================] - 0s 3ms/step - loss: 0.1074 - accuracy: 0.9540 - val_loss: 0.1167 - val_accuracy: 0.9659\n",
      "Epoch 137/500\n",
      "49/49 [==============================] - 0s 3ms/step - loss: 0.1021 - accuracy: 0.9681 - val_loss: 0.0974 - val_accuracy: 0.9659\n",
      "Epoch 138/500\n",
      "44/49 [=========================>....] - ETA: 0s - loss: 0.0796 - accuracy: 0.9744INFO:tensorflow:Assets written to: models\\model-138.model\\assets\n"
     ]
    },
    {
     "name": "stderr",
     "output_type": "stream",
     "text": [
      "INFO:tensorflow:Assets written to: models\\model-138.model\\assets\n"
     ]
    },
    {
     "name": "stdout",
     "output_type": "stream",
     "text": [
      "49/49 [==============================] - 1s 17ms/step - loss: 0.0870 - accuracy: 0.9706 - val_loss: 0.0927 - val_accuracy: 0.9432\n",
      "Epoch 139/500\n",
      "49/49 [==============================] - 0s 3ms/step - loss: 0.0870 - accuracy: 0.9745 - val_loss: 0.1070 - val_accuracy: 0.9659\n",
      "Epoch 140/500\n",
      "49/49 [==============================] - 0s 3ms/step - loss: 0.1104 - accuracy: 0.9604 - val_loss: 0.1031 - val_accuracy: 0.9659\n",
      "Epoch 141/500\n",
      "25/49 [==============>...............] - ETA: 0s - loss: 0.1129 - accuracy: 0.9625INFO:tensorflow:Assets written to: models\\model-141.model\\assets\n"
     ]
    },
    {
     "name": "stderr",
     "output_type": "stream",
     "text": [
      "INFO:tensorflow:Assets written to: models\\model-141.model\\assets\n"
     ]
    },
    {
     "name": "stdout",
     "output_type": "stream",
     "text": [
      "49/49 [==============================] - 1s 15ms/step - loss: 0.1006 - accuracy: 0.9642 - val_loss: 0.0814 - val_accuracy: 0.9773\n",
      "Epoch 142/500\n",
      "49/49 [==============================] - 0s 3ms/step - loss: 0.0930 - accuracy: 0.9732 - val_loss: 0.1124 - val_accuracy: 0.9545\n",
      "Epoch 143/500\n",
      "49/49 [==============================] - 0s 3ms/step - loss: 0.0993 - accuracy: 0.9642 - val_loss: 0.0885 - val_accuracy: 0.9659\n",
      "Epoch 144/500\n",
      "49/49 [==============================] - 0s 3ms/step - loss: 0.0799 - accuracy: 0.9757 - val_loss: 0.0894 - val_accuracy: 0.9659\n",
      "Epoch 145/500\n",
      "49/49 [==============================] - 0s 2ms/step - loss: 0.0901 - accuracy: 0.9681 - val_loss: 0.0999 - val_accuracy: 0.9659\n",
      "Epoch 146/500\n",
      "49/49 [==============================] - 0s 2ms/step - loss: 0.0982 - accuracy: 0.9681 - val_loss: 0.0861 - val_accuracy: 0.9773\n",
      "Epoch 147/500\n",
      "49/49 [==============================] - 0s 3ms/step - loss: 0.0709 - accuracy: 0.9821 - val_loss: 0.0916 - val_accuracy: 0.9659\n",
      "Epoch 148/500\n",
      "31/49 [=================>............] - ETA: 0s - loss: 0.0711 - accuracy: 0.9698INFO:tensorflow:Assets written to: models\\model-148.model\\assets\n"
     ]
    },
    {
     "name": "stderr",
     "output_type": "stream",
     "text": [
      "INFO:tensorflow:Assets written to: models\\model-148.model\\assets\n"
     ]
    },
    {
     "name": "stdout",
     "output_type": "stream",
     "text": [
      "49/49 [==============================] - 1s 13ms/step - loss: 0.0988 - accuracy: 0.9591 - val_loss: 0.0759 - val_accuracy: 0.9773\n",
      "Epoch 149/500\n",
      "49/49 [==============================] - 0s 3ms/step - loss: 0.1038 - accuracy: 0.9655 - val_loss: 0.0810 - val_accuracy: 0.9659\n",
      "Epoch 150/500\n",
      "49/49 [==============================] - 0s 2ms/step - loss: 0.0872 - accuracy: 0.9681 - val_loss: 0.0842 - val_accuracy: 0.9773\n",
      "Epoch 151/500\n",
      "49/49 [==============================] - 0s 2ms/step - loss: 0.0874 - accuracy: 0.9745 - val_loss: 0.0761 - val_accuracy: 0.9773\n",
      "Epoch 152/500\n",
      "49/49 [==============================] - 0s 3ms/step - loss: 0.0740 - accuracy: 0.9745 - val_loss: 0.0767 - val_accuracy: 0.9773\n",
      "Epoch 153/500\n",
      "49/49 [==============================] - 0s 3ms/step - loss: 0.0820 - accuracy: 0.9770 - val_loss: 0.0798 - val_accuracy: 0.9318\n",
      "Epoch 154/500\n",
      "49/49 [==============================] - 0s 3ms/step - loss: 0.0807 - accuracy: 0.9668 - val_loss: 0.0833 - val_accuracy: 0.9773\n",
      "Epoch 155/500\n",
      "49/49 [==============================] - 0s 3ms/step - loss: 0.0834 - accuracy: 0.9668 - val_loss: 0.0936 - val_accuracy: 0.9659\n",
      "Epoch 156/500\n",
      "27/49 [===============>..............] - ETA: 0s - loss: 0.0713 - accuracy: 0.9769INFO:tensorflow:Assets written to: models\\model-156.model\\assets\n"
     ]
    },
    {
     "name": "stderr",
     "output_type": "stream",
     "text": [
      "INFO:tensorflow:Assets written to: models\\model-156.model\\assets\n"
     ]
    },
    {
     "name": "stdout",
     "output_type": "stream",
     "text": [
      "49/49 [==============================] - 1s 14ms/step - loss: 0.0806 - accuracy: 0.9681 - val_loss: 0.0681 - val_accuracy: 0.9773\n",
      "Epoch 157/500\n",
      "27/49 [===============>..............] - ETA: 0s - loss: 0.0842 - accuracy: 0.9699INFO:tensorflow:Assets written to: models\\model-157.model\\assets\n"
     ]
    },
    {
     "name": "stderr",
     "output_type": "stream",
     "text": [
      "INFO:tensorflow:Assets written to: models\\model-157.model\\assets\n"
     ]
    },
    {
     "name": "stdout",
     "output_type": "stream",
     "text": [
      "49/49 [==============================] - 1s 14ms/step - loss: 0.0825 - accuracy: 0.9668 - val_loss: 0.0657 - val_accuracy: 0.9773\n",
      "Epoch 158/500\n",
      "49/49 [==============================] - 0s 3ms/step - loss: 0.0679 - accuracy: 0.9796 - val_loss: 0.0779 - val_accuracy: 0.9773\n",
      "Epoch 159/500\n",
      "49/49 [==============================] - 0s 2ms/step - loss: 0.0667 - accuracy: 0.9821 - val_loss: 0.0748 - val_accuracy: 0.9773\n",
      "Epoch 160/500\n",
      "49/49 [==============================] - 0s 2ms/step - loss: 0.0706 - accuracy: 0.9757 - val_loss: 0.0884 - val_accuracy: 0.9545\n",
      "Epoch 161/500\n",
      "49/49 [==============================] - 0s 2ms/step - loss: 0.0628 - accuracy: 0.9821 - val_loss: 0.0747 - val_accuracy: 0.9659\n",
      "Epoch 162/500\n",
      "49/49 [==============================] - 0s 2ms/step - loss: 0.0768 - accuracy: 0.9706 - val_loss: 0.0988 - val_accuracy: 0.9091\n",
      "Epoch 163/500\n",
      "49/49 [==============================] - 0s 2ms/step - loss: 0.0784 - accuracy: 0.9719 - val_loss: 0.0778 - val_accuracy: 0.9659\n",
      "Epoch 164/500\n",
      "49/49 [==============================] - 0s 2ms/step - loss: 0.0912 - accuracy: 0.9681 - val_loss: 0.0783 - val_accuracy: 0.9773\n",
      "Epoch 165/500\n",
      "49/49 [==============================] - 0s 3ms/step - loss: 0.0758 - accuracy: 0.9706 - val_loss: 0.0660 - val_accuracy: 0.9773\n",
      "Epoch 166/500\n",
      "49/49 [==============================] - 0s 3ms/step - loss: 0.0921 - accuracy: 0.9719 - val_loss: 0.0883 - val_accuracy: 0.9659\n",
      "Epoch 167/500\n",
      "49/49 [==============================] - 0s 2ms/step - loss: 0.0970 - accuracy: 0.9655 - val_loss: 0.0782 - val_accuracy: 0.9545\n",
      "Epoch 168/500\n",
      "49/49 [==============================] - 0s 2ms/step - loss: 0.0902 - accuracy: 0.9681 - val_loss: 0.0716 - val_accuracy: 0.9773\n",
      "Epoch 169/500\n",
      "33/49 [===================>..........] - ETA: 0s - loss: 0.0788 - accuracy: 0.9735INFO:tensorflow:Assets written to: models\\model-169.model\\assets\n"
     ]
    },
    {
     "name": "stderr",
     "output_type": "stream",
     "text": [
      "INFO:tensorflow:Assets written to: models\\model-169.model\\assets\n"
     ]
    },
    {
     "name": "stdout",
     "output_type": "stream",
     "text": [
      "49/49 [==============================] - 1s 13ms/step - loss: 0.0727 - accuracy: 0.9770 - val_loss: 0.0627 - val_accuracy: 0.9773\n",
      "Epoch 170/500\n",
      "49/49 [==============================] - 0s 3ms/step - loss: 0.0814 - accuracy: 0.9745 - val_loss: 0.0769 - val_accuracy: 0.9773\n",
      "Epoch 171/500\n",
      "49/49 [==============================] - 0s 2ms/step - loss: 0.0676 - accuracy: 0.9770 - val_loss: 0.0638 - val_accuracy: 0.9773\n",
      "Epoch 172/500\n",
      "49/49 [==============================] - 0s 3ms/step - loss: 0.0668 - accuracy: 0.9783 - val_loss: 0.0816 - val_accuracy: 0.9545\n",
      "Epoch 173/500\n",
      "49/49 [==============================] - 0s 3ms/step - loss: 0.0860 - accuracy: 0.9783 - val_loss: 0.0796 - val_accuracy: 0.9659\n",
      "Epoch 174/500\n",
      "49/49 [==============================] - 0s 2ms/step - loss: 0.0617 - accuracy: 0.9757 - val_loss: 0.0981 - val_accuracy: 0.9318\n",
      "Epoch 175/500\n",
      "49/49 [==============================] - 0s 2ms/step - loss: 0.0801 - accuracy: 0.9719 - val_loss: 0.0651 - val_accuracy: 0.9773\n",
      "Epoch 176/500\n",
      "49/49 [==============================] - 0s 2ms/step - loss: 0.0505 - accuracy: 0.9872 - val_loss: 0.0706 - val_accuracy: 0.9773\n",
      "Epoch 177/500\n",
      "34/49 [===================>..........] - ETA: 0s - loss: 0.0442 - accuracy: 0.9890INFO:tensorflow:Assets written to: models\\model-177.model\\assets\n"
     ]
    },
    {
     "name": "stderr",
     "output_type": "stream",
     "text": [
      "INFO:tensorflow:Assets written to: models\\model-177.model\\assets\n"
     ]
    },
    {
     "name": "stdout",
     "output_type": "stream",
     "text": [
      "49/49 [==============================] - 1s 14ms/step - loss: 0.0598 - accuracy: 0.9834 - val_loss: 0.0583 - val_accuracy: 0.9773\n",
      "Epoch 178/500\n",
      "49/49 [==============================] - 0s 3ms/step - loss: 0.0737 - accuracy: 0.9808 - val_loss: 0.0622 - val_accuracy: 0.9659\n",
      "Epoch 179/500\n",
      "49/49 [==============================] - 0s 3ms/step - loss: 0.0578 - accuracy: 0.9847 - val_loss: 0.0700 - val_accuracy: 0.9545\n",
      "Epoch 180/500\n",
      "49/49 [==============================] - 0s 3ms/step - loss: 0.0748 - accuracy: 0.9745 - val_loss: 0.0695 - val_accuracy: 0.9659\n",
      "Epoch 181/500\n",
      "49/49 [==============================] - 0s 3ms/step - loss: 0.0522 - accuracy: 0.9885 - val_loss: 0.0609 - val_accuracy: 0.9545\n",
      "Epoch 182/500\n",
      "49/49 [==============================] - 0s 3ms/step - loss: 0.0533 - accuracy: 0.9847 - val_loss: 0.0696 - val_accuracy: 0.9773\n",
      "Epoch 183/500\n",
      "49/49 [==============================] - 0s 2ms/step - loss: 0.0591 - accuracy: 0.9821 - val_loss: 0.0650 - val_accuracy: 0.9773\n",
      "Epoch 184/500\n",
      "34/49 [===================>..........] - ETA: 0s - loss: 0.0734 - accuracy: 0.9779INFO:tensorflow:Assets written to: models\\model-184.model\\assets\n"
     ]
    },
    {
     "name": "stderr",
     "output_type": "stream",
     "text": [
      "INFO:tensorflow:Assets written to: models\\model-184.model\\assets\n"
     ]
    },
    {
     "name": "stdout",
     "output_type": "stream",
     "text": [
      "49/49 [==============================] - 1s 16ms/step - loss: 0.0655 - accuracy: 0.9808 - val_loss: 0.0578 - val_accuracy: 0.9773\n",
      "Epoch 185/500\n",
      "26/49 [==============>...............] - ETA: 0s - loss: 0.0602 - accuracy: 0.9832INFO:tensorflow:Assets written to: models\\model-185.model\\assets\n"
     ]
    },
    {
     "name": "stderr",
     "output_type": "stream",
     "text": [
      "INFO:tensorflow:Assets written to: models\\model-185.model\\assets\n"
     ]
    },
    {
     "name": "stdout",
     "output_type": "stream",
     "text": [
      "49/49 [==============================] - 1s 15ms/step - loss: 0.0671 - accuracy: 0.9808 - val_loss: 0.0487 - val_accuracy: 0.9773\n",
      "Epoch 186/500\n",
      "49/49 [==============================] - 0s 3ms/step - loss: 0.0655 - accuracy: 0.9783 - val_loss: 0.0493 - val_accuracy: 0.9773\n",
      "Epoch 187/500\n",
      "49/49 [==============================] - 0s 3ms/step - loss: 0.0715 - accuracy: 0.9770 - val_loss: 0.0619 - val_accuracy: 0.9773\n",
      "Epoch 188/500\n",
      "49/49 [==============================] - 0s 2ms/step - loss: 0.0773 - accuracy: 0.9783 - val_loss: 0.0621 - val_accuracy: 0.9773\n",
      "Epoch 189/500\n",
      "49/49 [==============================] - 0s 3ms/step - loss: 0.0538 - accuracy: 0.9860 - val_loss: 0.0580 - val_accuracy: 0.9773\n",
      "Epoch 190/500\n",
      "49/49 [==============================] - 0s 3ms/step - loss: 0.0689 - accuracy: 0.9719 - val_loss: 0.0592 - val_accuracy: 0.9545\n",
      "Epoch 191/500\n",
      "49/49 [==============================] - 0s 3ms/step - loss: 0.0495 - accuracy: 0.9796 - val_loss: 0.0622 - val_accuracy: 0.9659\n",
      "Epoch 192/500\n",
      "49/49 [==============================] - 0s 3ms/step - loss: 0.0580 - accuracy: 0.9745 - val_loss: 0.0505 - val_accuracy: 0.9773\n",
      "Epoch 193/500\n",
      "49/49 [==============================] - 0s 3ms/step - loss: 0.0624 - accuracy: 0.9808 - val_loss: 0.0514 - val_accuracy: 0.9773\n",
      "Epoch 194/500\n",
      "49/49 [==============================] - 0s 2ms/step - loss: 0.0527 - accuracy: 0.9770 - val_loss: 0.0682 - val_accuracy: 0.9545\n",
      "Epoch 195/500\n",
      "49/49 [==============================] - 0s 2ms/step - loss: 0.0548 - accuracy: 0.9860 - val_loss: 0.0557 - val_accuracy: 0.9773\n",
      "Epoch 196/500\n",
      "49/49 [==============================] - 0s 2ms/step - loss: 0.0509 - accuracy: 0.9808 - val_loss: 0.0507 - val_accuracy: 0.9773\n",
      "Epoch 197/500\n",
      "49/49 [==============================] - 0s 3ms/step - loss: 0.0651 - accuracy: 0.9796 - val_loss: 0.0636 - val_accuracy: 0.9659\n",
      "Epoch 198/500\n",
      "49/49 [==============================] - 0s 3ms/step - loss: 0.0678 - accuracy: 0.9757 - val_loss: 0.0570 - val_accuracy: 0.9773\n",
      "Epoch 199/500\n",
      "49/49 [==============================] - 0s 2ms/step - loss: 0.0732 - accuracy: 0.9847 - val_loss: 0.0669 - val_accuracy: 0.9659\n",
      "Epoch 200/500\n",
      "49/49 [==============================] - 0s 2ms/step - loss: 0.0525 - accuracy: 0.9796 - val_loss: 0.0509 - val_accuracy: 0.9773\n",
      "Epoch 201/500\n",
      "30/49 [=================>............] - ETA: 0s - loss: 0.0446 - accuracy: 0.9896INFO:tensorflow:Assets written to: models\\model-201.model\\assets\n"
     ]
    },
    {
     "name": "stderr",
     "output_type": "stream",
     "text": [
      "INFO:tensorflow:Assets written to: models\\model-201.model\\assets\n"
     ]
    },
    {
     "name": "stdout",
     "output_type": "stream",
     "text": [
      "49/49 [==============================] - 1s 14ms/step - loss: 0.0526 - accuracy: 0.9872 - val_loss: 0.0479 - val_accuracy: 0.9773\n",
      "Epoch 202/500\n",
      "26/49 [==============>...............] - ETA: 0s - loss: 0.0551 - accuracy: 0.9856INFO:tensorflow:Assets written to: models\\model-202.model\\assets\n"
     ]
    },
    {
     "name": "stderr",
     "output_type": "stream",
     "text": [
      "INFO:tensorflow:Assets written to: models\\model-202.model\\assets\n"
     ]
    },
    {
     "name": "stdout",
     "output_type": "stream",
     "text": [
      "49/49 [==============================] - 1s 15ms/step - loss: 0.0461 - accuracy: 0.9898 - val_loss: 0.0464 - val_accuracy: 0.9773\n",
      "Epoch 203/500\n",
      "49/49 [==============================] - 0s 3ms/step - loss: 0.0432 - accuracy: 0.9898 - val_loss: 0.0609 - val_accuracy: 0.9432\n",
      "Epoch 204/500\n",
      "49/49 [==============================] - 0s 2ms/step - loss: 0.0461 - accuracy: 0.9872 - val_loss: 0.0572 - val_accuracy: 0.9659\n",
      "Epoch 205/500\n",
      "49/49 [==============================] - 0s 2ms/step - loss: 0.0634 - accuracy: 0.9732 - val_loss: 0.0553 - val_accuracy: 0.9773\n",
      "Epoch 206/500\n",
      "49/49 [==============================] - 0s 2ms/step - loss: 0.0531 - accuracy: 0.9885 - val_loss: 0.0496 - val_accuracy: 0.9773\n",
      "Epoch 207/500\n",
      "49/49 [==============================] - 0s 2ms/step - loss: 0.0545 - accuracy: 0.9834 - val_loss: 0.0588 - val_accuracy: 0.9773\n",
      "Epoch 208/500\n",
      "27/49 [===============>..............] - ETA: 0s - loss: 0.0672 - accuracy: 0.9699INFO:tensorflow:Assets written to: models\\model-208.model\\assets\n"
     ]
    },
    {
     "name": "stderr",
     "output_type": "stream",
     "text": [
      "INFO:tensorflow:Assets written to: models\\model-208.model\\assets\n"
     ]
    },
    {
     "name": "stdout",
     "output_type": "stream",
     "text": [
      "49/49 [==============================] - 1s 13ms/step - loss: 0.0590 - accuracy: 0.9796 - val_loss: 0.0364 - val_accuracy: 0.9773\n",
      "Epoch 209/500\n",
      "49/49 [==============================] - 0s 3ms/step - loss: 0.0683 - accuracy: 0.9783 - val_loss: 0.0512 - val_accuracy: 0.9773\n",
      "Epoch 210/500\n",
      "49/49 [==============================] - 0s 3ms/step - loss: 0.0582 - accuracy: 0.9783 - val_loss: 0.0402 - val_accuracy: 0.9773\n",
      "Epoch 211/500\n",
      "49/49 [==============================] - 0s 3ms/step - loss: 0.0579 - accuracy: 0.9821 - val_loss: 0.0618 - val_accuracy: 0.9545\n",
      "Epoch 212/500\n",
      "49/49 [==============================] - 0s 2ms/step - loss: 0.0464 - accuracy: 0.9834 - val_loss: 0.0448 - val_accuracy: 0.9773\n",
      "Epoch 213/500\n",
      "49/49 [==============================] - 0s 2ms/step - loss: 0.0486 - accuracy: 0.9847 - val_loss: 0.0415 - val_accuracy: 0.9773\n",
      "Epoch 214/500\n",
      "49/49 [==============================] - 0s 2ms/step - loss: 0.0539 - accuracy: 0.9885 - val_loss: 0.0599 - val_accuracy: 0.9659\n",
      "Epoch 215/500\n",
      "49/49 [==============================] - 0s 3ms/step - loss: 0.0607 - accuracy: 0.9783 - val_loss: 0.0578 - val_accuracy: 0.9773\n",
      "Epoch 216/500\n",
      "49/49 [==============================] - 0s 3ms/step - loss: 0.0696 - accuracy: 0.9757 - val_loss: 0.0471 - val_accuracy: 0.9773\n",
      "Epoch 217/500\n",
      "49/49 [==============================] - 0s 3ms/step - loss: 0.0483 - accuracy: 0.9834 - val_loss: 0.0393 - val_accuracy: 0.9773\n",
      "Epoch 218/500\n",
      "28/49 [================>.............] - ETA: 0s - loss: 0.0656 - accuracy: 0.9732INFO:tensorflow:Assets written to: models\\model-218.model\\assets\n"
     ]
    },
    {
     "name": "stderr",
     "output_type": "stream",
     "text": [
      "INFO:tensorflow:Assets written to: models\\model-218.model\\assets\n"
     ]
    },
    {
     "name": "stdout",
     "output_type": "stream",
     "text": [
      "49/49 [==============================] - 1s 14ms/step - loss: 0.0525 - accuracy: 0.9821 - val_loss: 0.0338 - val_accuracy: 0.9773\n",
      "Epoch 219/500\n",
      "49/49 [==============================] - 0s 3ms/step - loss: 0.0450 - accuracy: 0.9860 - val_loss: 0.0344 - val_accuracy: 0.9773\n",
      "Epoch 220/500\n",
      "49/49 [==============================] - 0s 3ms/step - loss: 0.0756 - accuracy: 0.9834 - val_loss: 0.0442 - val_accuracy: 0.9773\n",
      "Epoch 221/500\n",
      "49/49 [==============================] - 0s 2ms/step - loss: 0.0486 - accuracy: 0.9821 - val_loss: 0.0421 - val_accuracy: 0.9773\n",
      "Epoch 222/500\n",
      "49/49 [==============================] - 0s 3ms/step - loss: 0.0420 - accuracy: 0.9885 - val_loss: 0.0411 - val_accuracy: 1.0000\n",
      "Epoch 223/500\n",
      "49/49 [==============================] - 0s 2ms/step - loss: 0.0470 - accuracy: 0.9872 - val_loss: 0.0389 - val_accuracy: 0.9773\n",
      "Epoch 224/500\n",
      "49/49 [==============================] - 0s 2ms/step - loss: 0.0435 - accuracy: 0.9860 - val_loss: 0.0454 - val_accuracy: 0.9773\n",
      "Epoch 225/500\n",
      "49/49 [==============================] - 0s 2ms/step - loss: 0.0559 - accuracy: 0.9783 - val_loss: 0.0368 - val_accuracy: 0.9773\n",
      "Epoch 226/500\n",
      "49/49 [==============================] - 0s 2ms/step - loss: 0.0428 - accuracy: 0.9898 - val_loss: 0.0387 - val_accuracy: 0.9773\n",
      "Epoch 227/500\n",
      "49/49 [==============================] - 0s 2ms/step - loss: 0.0409 - accuracy: 0.9872 - val_loss: 0.0366 - val_accuracy: 0.9773\n",
      "Epoch 228/500\n",
      "31/49 [=================>............] - ETA: 0s - loss: 0.0454 - accuracy: 0.9819INFO:tensorflow:Assets written to: models\\model-228.model\\assets\n"
     ]
    },
    {
     "name": "stderr",
     "output_type": "stream",
     "text": [
      "INFO:tensorflow:Assets written to: models\\model-228.model\\assets\n"
     ]
    },
    {
     "name": "stdout",
     "output_type": "stream",
     "text": [
      "49/49 [==============================] - 1s 14ms/step - loss: 0.0403 - accuracy: 0.9872 - val_loss: 0.0338 - val_accuracy: 0.9773\n",
      "Epoch 229/500\n",
      "49/49 [==============================] - 0s 3ms/step - loss: 0.0536 - accuracy: 0.9834 - val_loss: 0.0406 - val_accuracy: 0.9773\n",
      "Epoch 230/500\n",
      "49/49 [==============================] - 0s 2ms/step - loss: 0.0517 - accuracy: 0.9847 - val_loss: 0.0386 - val_accuracy: 1.0000\n",
      "Epoch 231/500\n",
      "49/49 [==============================] - 0s 2ms/step - loss: 0.0454 - accuracy: 0.9847 - val_loss: 0.0385 - val_accuracy: 1.0000\n",
      "Epoch 232/500\n",
      "49/49 [==============================] - 0s 2ms/step - loss: 0.0548 - accuracy: 0.9821 - val_loss: 0.0409 - val_accuracy: 0.9773\n",
      "Epoch 233/500\n",
      "30/49 [=================>............] - ETA: 0s - loss: 0.0342 - accuracy: 0.9917INFO:tensorflow:Assets written to: models\\model-233.model\\assets\n"
     ]
    },
    {
     "name": "stderr",
     "output_type": "stream",
     "text": [
      "INFO:tensorflow:Assets written to: models\\model-233.model\\assets\n"
     ]
    },
    {
     "name": "stdout",
     "output_type": "stream",
     "text": [
      "49/49 [==============================] - 1s 14ms/step - loss: 0.0354 - accuracy: 0.9911 - val_loss: 0.0290 - val_accuracy: 0.9773\n",
      "Epoch 234/500\n",
      "25/49 [==============>...............] - ETA: 0s - loss: 0.0524 - accuracy: 0.9825INFO:tensorflow:Assets written to: models\\model-234.model\\assets\n"
     ]
    },
    {
     "name": "stderr",
     "output_type": "stream",
     "text": [
      "INFO:tensorflow:Assets written to: models\\model-234.model\\assets\n"
     ]
    },
    {
     "name": "stdout",
     "output_type": "stream",
     "text": [
      "49/49 [==============================] - 1s 14ms/step - loss: 0.0507 - accuracy: 0.9860 - val_loss: 0.0288 - val_accuracy: 1.0000\n",
      "Epoch 235/500\n",
      "49/49 [==============================] - 0s 3ms/step - loss: 0.0495 - accuracy: 0.9834 - val_loss: 0.0330 - val_accuracy: 1.0000\n",
      "Epoch 236/500\n",
      "49/49 [==============================] - 0s 2ms/step - loss: 0.0498 - accuracy: 0.9872 - val_loss: 0.0336 - val_accuracy: 0.9773\n",
      "Epoch 237/500\n",
      "49/49 [==============================] - 0s 2ms/step - loss: 0.0402 - accuracy: 0.9872 - val_loss: 0.0372 - val_accuracy: 0.9773\n",
      "Epoch 238/500\n",
      "49/49 [==============================] - 0s 2ms/step - loss: 0.0615 - accuracy: 0.9757 - val_loss: 0.0351 - val_accuracy: 0.9773\n",
      "Epoch 239/500\n",
      "49/49 [==============================] - 0s 2ms/step - loss: 0.0395 - accuracy: 0.9872 - val_loss: 0.0327 - val_accuracy: 1.0000\n",
      "Epoch 240/500\n",
      "49/49 [==============================] - 0s 2ms/step - loss: 0.0625 - accuracy: 0.9757 - val_loss: 0.0314 - val_accuracy: 0.9773\n",
      "Epoch 241/500\n",
      "49/49 [==============================] - 0s 3ms/step - loss: 0.0519 - accuracy: 0.9834 - val_loss: 0.0332 - val_accuracy: 1.0000\n",
      "Epoch 242/500\n",
      "49/49 [==============================] - 0s 3ms/step - loss: 0.0453 - accuracy: 0.9847 - val_loss: 0.0341 - val_accuracy: 0.9773\n",
      "Epoch 243/500\n",
      "30/49 [=================>............] - ETA: 0s - loss: 0.0340 - accuracy: 0.9896INFO:tensorflow:Assets written to: models\\model-243.model\\assets\n"
     ]
    },
    {
     "name": "stderr",
     "output_type": "stream",
     "text": [
      "INFO:tensorflow:Assets written to: models\\model-243.model\\assets\n"
     ]
    },
    {
     "name": "stdout",
     "output_type": "stream",
     "text": [
      "49/49 [==============================] - 1s 17ms/step - loss: 0.0442 - accuracy: 0.9898 - val_loss: 0.0279 - val_accuracy: 1.0000\n",
      "Epoch 244/500\n",
      "49/49 [==============================] - 0s 3ms/step - loss: 0.0391 - accuracy: 0.9898 - val_loss: 0.0315 - val_accuracy: 0.9773\n",
      "Epoch 245/500\n",
      "49/49 [==============================] - 0s 3ms/step - loss: 0.0340 - accuracy: 0.9860 - val_loss: 0.0285 - val_accuracy: 0.9773\n",
      "Epoch 246/500\n",
      "49/49 [==============================] - 0s 3ms/step - loss: 0.0443 - accuracy: 0.9847 - val_loss: 0.0358 - val_accuracy: 0.9773\n",
      "Epoch 247/500\n",
      "26/49 [==============>...............] - ETA: 0s - loss: 0.0303 - accuracy: 0.9904INFO:tensorflow:Assets written to: models\\model-247.model\\assets\n"
     ]
    },
    {
     "name": "stderr",
     "output_type": "stream",
     "text": [
      "INFO:tensorflow:Assets written to: models\\model-247.model\\assets\n"
     ]
    },
    {
     "name": "stdout",
     "output_type": "stream",
     "text": [
      "49/49 [==============================] - 1s 14ms/step - loss: 0.0412 - accuracy: 0.9872 - val_loss: 0.0262 - val_accuracy: 1.0000\n",
      "Epoch 248/500\n",
      "49/49 [==============================] - 0s 2ms/step - loss: 0.0500 - accuracy: 0.9821 - val_loss: 0.0279 - val_accuracy: 1.0000\n",
      "Epoch 249/500\n",
      "49/49 [==============================] - 0s 2ms/step - loss: 0.0515 - accuracy: 0.9860 - val_loss: 0.0282 - val_accuracy: 1.0000\n",
      "Epoch 250/500\n",
      "49/49 [==============================] - 0s 3ms/step - loss: 0.0341 - accuracy: 0.9911 - val_loss: 0.0308 - val_accuracy: 0.9773\n",
      "Epoch 251/500\n",
      "49/49 [==============================] - 0s 3ms/step - loss: 0.0443 - accuracy: 0.9847 - val_loss: 0.0346 - val_accuracy: 1.0000\n",
      "Epoch 252/500\n",
      "49/49 [==============================] - 0s 3ms/step - loss: 0.0433 - accuracy: 0.9821 - val_loss: 0.0309 - val_accuracy: 1.0000\n",
      "Epoch 253/500\n",
      "49/49 [==============================] - 0s 3ms/step - loss: 0.0303 - accuracy: 0.9872 - val_loss: 0.0297 - val_accuracy: 1.0000\n",
      "Epoch 254/500\n",
      "49/49 [==============================] - 0s 2ms/step - loss: 0.0289 - accuracy: 0.9923 - val_loss: 0.0304 - val_accuracy: 1.0000\n",
      "Epoch 255/500\n",
      "49/49 [==============================] - 0s 2ms/step - loss: 0.0345 - accuracy: 0.9885 - val_loss: 0.0328 - val_accuracy: 1.0000\n",
      "Epoch 256/500\n",
      "49/49 [==============================] - 0s 3ms/step - loss: 0.0370 - accuracy: 0.9860 - val_loss: 0.0290 - val_accuracy: 1.0000\n",
      "Epoch 257/500\n",
      "49/49 [==============================] - 0s 3ms/step - loss: 0.0392 - accuracy: 0.9885 - val_loss: 0.0349 - val_accuracy: 1.0000\n",
      "Epoch 258/500\n",
      "49/49 [==============================] - 0s 3ms/step - loss: 0.0467 - accuracy: 0.9860 - val_loss: 0.0323 - val_accuracy: 1.0000\n",
      "Epoch 259/500\n",
      "49/49 [==============================] - 0s 3ms/step - loss: 0.0379 - accuracy: 0.9885 - val_loss: 0.0295 - val_accuracy: 1.0000\n",
      "Epoch 260/500\n",
      "49/49 [==============================] - 0s 3ms/step - loss: 0.0526 - accuracy: 0.9834 - val_loss: 0.0297 - val_accuracy: 0.9773\n",
      "Epoch 261/500\n",
      "49/49 [==============================] - 0s 2ms/step - loss: 0.0315 - accuracy: 0.9923 - val_loss: 0.0280 - val_accuracy: 1.0000\n",
      "Epoch 262/500\n",
      "49/49 [==============================] - 0s 2ms/step - loss: 0.0507 - accuracy: 0.9885 - val_loss: 0.0423 - val_accuracy: 0.9773\n",
      "Epoch 263/500\n",
      "31/49 [=================>............] - ETA: 0s - loss: 0.0513 - accuracy: 0.9879INFO:tensorflow:Assets written to: models\\model-263.model\\assets\n"
     ]
    },
    {
     "name": "stderr",
     "output_type": "stream",
     "text": [
      "INFO:tensorflow:Assets written to: models\\model-263.model\\assets\n"
     ]
    },
    {
     "name": "stdout",
     "output_type": "stream",
     "text": [
      "49/49 [==============================] - 1s 14ms/step - loss: 0.0489 - accuracy: 0.9885 - val_loss: 0.0240 - val_accuracy: 1.0000\n",
      "Epoch 264/500\n",
      "49/49 [==============================] - 0s 3ms/step - loss: 0.0353 - accuracy: 0.9885 - val_loss: 0.0339 - val_accuracy: 0.9886\n",
      "Epoch 265/500\n",
      "49/49 [==============================] - 0s 3ms/step - loss: 0.0488 - accuracy: 0.9847 - val_loss: 0.0256 - val_accuracy: 1.0000\n",
      "Epoch 266/500\n",
      "49/49 [==============================] - 0s 2ms/step - loss: 0.0326 - accuracy: 0.9885 - val_loss: 0.0308 - val_accuracy: 1.0000\n",
      "Epoch 267/500\n",
      "49/49 [==============================] - 0s 3ms/step - loss: 0.0402 - accuracy: 0.9885 - val_loss: 0.0242 - val_accuracy: 1.0000\n",
      "Epoch 268/500\n",
      "49/49 [==============================] - 0s 3ms/step - loss: 0.0307 - accuracy: 0.9911 - val_loss: 0.0260 - val_accuracy: 1.0000\n",
      "Epoch 269/500\n",
      "28/49 [================>.............] - ETA: 0s - loss: 0.0322 - accuracy: 0.9888INFO:tensorflow:Assets written to: models\\model-269.model\\assets\n"
     ]
    },
    {
     "name": "stderr",
     "output_type": "stream",
     "text": [
      "INFO:tensorflow:Assets written to: models\\model-269.model\\assets\n"
     ]
    },
    {
     "name": "stdout",
     "output_type": "stream",
     "text": [
      "49/49 [==============================] - 1s 14ms/step - loss: 0.0405 - accuracy: 0.9860 - val_loss: 0.0231 - val_accuracy: 1.0000\n",
      "Epoch 270/500\n",
      "49/49 [==============================] - 0s 3ms/step - loss: 0.0302 - accuracy: 0.9911 - val_loss: 0.0267 - val_accuracy: 1.0000\n",
      "Epoch 271/500\n",
      "30/49 [=================>............] - ETA: 0s - loss: 0.0194 - accuracy: 0.9958INFO:tensorflow:Assets written to: models\\model-271.model\\assets\n"
     ]
    },
    {
     "name": "stderr",
     "output_type": "stream",
     "text": [
      "INFO:tensorflow:Assets written to: models\\model-271.model\\assets\n"
     ]
    },
    {
     "name": "stdout",
     "output_type": "stream",
     "text": [
      "49/49 [==============================] - 1s 14ms/step - loss: 0.0183 - accuracy: 0.9962 - val_loss: 0.0212 - val_accuracy: 1.0000\n",
      "Epoch 272/500\n",
      "49/49 [==============================] - 0s 3ms/step - loss: 0.0376 - accuracy: 0.9860 - val_loss: 0.0219 - val_accuracy: 1.0000\n",
      "Epoch 273/500\n",
      "49/49 [==============================] - 0s 3ms/step - loss: 0.0432 - accuracy: 0.9821 - val_loss: 0.0359 - val_accuracy: 1.0000\n",
      "Epoch 274/500\n",
      "49/49 [==============================] - 0s 3ms/step - loss: 0.0303 - accuracy: 0.9923 - val_loss: 0.0408 - val_accuracy: 0.9773\n",
      "Epoch 275/500\n",
      "49/49 [==============================] - 0s 3ms/step - loss: 0.0516 - accuracy: 0.9872 - val_loss: 0.0254 - val_accuracy: 1.0000\n",
      "Epoch 276/500\n",
      "27/49 [===============>..............] - ETA: 0s - loss: 0.0383 - accuracy: 0.9838INFO:tensorflow:Assets written to: models\\model-276.model\\assets\n"
     ]
    },
    {
     "name": "stderr",
     "output_type": "stream",
     "text": [
      "INFO:tensorflow:Assets written to: models\\model-276.model\\assets\n"
     ]
    },
    {
     "name": "stdout",
     "output_type": "stream",
     "text": [
      "49/49 [==============================] - 1s 15ms/step - loss: 0.0377 - accuracy: 0.9847 - val_loss: 0.0189 - val_accuracy: 1.0000\n",
      "Epoch 277/500\n",
      "49/49 [==============================] - 0s 3ms/step - loss: 0.0302 - accuracy: 0.9885 - val_loss: 0.0201 - val_accuracy: 1.0000\n",
      "Epoch 278/500\n",
      "49/49 [==============================] - 0s 3ms/step - loss: 0.0395 - accuracy: 0.9821 - val_loss: 0.0298 - val_accuracy: 0.9886\n",
      "Epoch 279/500\n",
      "49/49 [==============================] - 0s 3ms/step - loss: 0.0305 - accuracy: 0.9872 - val_loss: 0.0290 - val_accuracy: 1.0000\n",
      "Epoch 280/500\n",
      "49/49 [==============================] - 0s 3ms/step - loss: 0.0229 - accuracy: 0.9974 - val_loss: 0.0231 - val_accuracy: 1.0000\n",
      "Epoch 281/500\n",
      "49/49 [==============================] - 0s 3ms/step - loss: 0.0485 - accuracy: 0.9808 - val_loss: 0.0417 - val_accuracy: 0.9773\n",
      "Epoch 282/500\n",
      "49/49 [==============================] - 0s 3ms/step - loss: 0.0378 - accuracy: 0.9885 - val_loss: 0.0256 - val_accuracy: 1.0000\n",
      "Epoch 283/500\n",
      "49/49 [==============================] - 0s 2ms/step - loss: 0.0559 - accuracy: 0.9834 - val_loss: 0.0249 - val_accuracy: 1.0000\n",
      "Epoch 284/500\n",
      "49/49 [==============================] - 0s 2ms/step - loss: 0.0340 - accuracy: 0.9872 - val_loss: 0.0332 - val_accuracy: 0.9773\n",
      "Epoch 285/500\n",
      "49/49 [==============================] - 0s 2ms/step - loss: 0.0359 - accuracy: 0.9923 - val_loss: 0.0335 - val_accuracy: 1.0000\n",
      "Epoch 286/500\n",
      "49/49 [==============================] - 0s 2ms/step - loss: 0.0352 - accuracy: 0.9911 - val_loss: 0.0315 - val_accuracy: 0.9886\n",
      "Epoch 287/500\n",
      "49/49 [==============================] - 0s 2ms/step - loss: 0.0343 - accuracy: 0.9923 - val_loss: 0.0260 - val_accuracy: 1.0000\n",
      "Epoch 288/500\n",
      "49/49 [==============================] - 0s 3ms/step - loss: 0.0324 - accuracy: 0.9847 - val_loss: 0.0243 - val_accuracy: 1.0000\n",
      "Epoch 289/500\n",
      "49/49 [==============================] - 0s 2ms/step - loss: 0.0412 - accuracy: 0.9872 - val_loss: 0.0425 - val_accuracy: 0.9886\n",
      "Epoch 290/500\n",
      "49/49 [==============================] - 0s 2ms/step - loss: 0.0282 - accuracy: 0.9898 - val_loss: 0.0259 - val_accuracy: 1.0000\n",
      "Epoch 291/500\n",
      "49/49 [==============================] - 0s 2ms/step - loss: 0.0222 - accuracy: 0.9936 - val_loss: 0.0208 - val_accuracy: 1.0000\n",
      "Epoch 292/500\n",
      "49/49 [==============================] - 0s 3ms/step - loss: 0.0326 - accuracy: 0.9885 - val_loss: 0.0218 - val_accuracy: 1.0000\n",
      "Epoch 293/500\n",
      "49/49 [==============================] - 0s 3ms/step - loss: 0.0479 - accuracy: 0.9796 - val_loss: 0.0406 - val_accuracy: 0.9886\n",
      "Epoch 294/500\n",
      "49/49 [==============================] - 0s 3ms/step - loss: 0.0387 - accuracy: 0.9847 - val_loss: 0.0284 - val_accuracy: 1.0000\n",
      "Epoch 295/500\n",
      "49/49 [==============================] - 0s 2ms/step - loss: 0.0203 - accuracy: 0.9974 - val_loss: 0.0202 - val_accuracy: 1.0000\n",
      "Epoch 296/500\n",
      "49/49 [==============================] - 0s 2ms/step - loss: 0.0302 - accuracy: 0.9872 - val_loss: 0.0329 - val_accuracy: 0.9773\n",
      "Epoch 297/500\n",
      "49/49 [==============================] - 0s 2ms/step - loss: 0.0533 - accuracy: 0.9821 - val_loss: 0.0219 - val_accuracy: 1.0000\n",
      "Epoch 298/500\n",
      "49/49 [==============================] - 0s 3ms/step - loss: 0.0262 - accuracy: 0.9923 - val_loss: 0.0192 - val_accuracy: 1.0000\n",
      "Epoch 299/500\n",
      "49/49 [==============================] - 0s 2ms/step - loss: 0.0353 - accuracy: 0.9834 - val_loss: 0.0223 - val_accuracy: 1.0000\n",
      "Epoch 300/500\n",
      "28/49 [================>.............] - ETA: 0s - loss: 0.0203 - accuracy: 0.9955INFO:tensorflow:Assets written to: models\\model-300.model\\assets\n"
     ]
    },
    {
     "name": "stderr",
     "output_type": "stream",
     "text": [
      "INFO:tensorflow:Assets written to: models\\model-300.model\\assets\n"
     ]
    },
    {
     "name": "stdout",
     "output_type": "stream",
     "text": [
      "49/49 [==============================] - 1s 15ms/step - loss: 0.0189 - accuracy: 0.9962 - val_loss: 0.0178 - val_accuracy: 1.0000\n",
      "Epoch 301/500\n",
      "49/49 [==============================] - 0s 3ms/step - loss: 0.0332 - accuracy: 0.9872 - val_loss: 0.0355 - val_accuracy: 0.9659\n",
      "Epoch 302/500\n",
      "49/49 [==============================] - 0s 3ms/step - loss: 0.0323 - accuracy: 0.9923 - val_loss: 0.0196 - val_accuracy: 1.0000\n",
      "Epoch 303/500\n",
      "49/49 [==============================] - 0s 2ms/step - loss: 0.0358 - accuracy: 0.9885 - val_loss: 0.0207 - val_accuracy: 1.0000\n",
      "Epoch 304/500\n",
      "49/49 [==============================] - 0s 3ms/step - loss: 0.0384 - accuracy: 0.9885 - val_loss: 0.0214 - val_accuracy: 1.0000\n",
      "Epoch 305/500\n",
      "30/49 [=================>............] - ETA: 0s - loss: 0.0328 - accuracy: 0.9917INFO:tensorflow:Assets written to: models\\model-305.model\\assets\n"
     ]
    },
    {
     "name": "stderr",
     "output_type": "stream",
     "text": [
      "INFO:tensorflow:Assets written to: models\\model-305.model\\assets\n"
     ]
    },
    {
     "name": "stdout",
     "output_type": "stream",
     "text": [
      "49/49 [==============================] - 1s 13ms/step - loss: 0.0321 - accuracy: 0.9898 - val_loss: 0.0168 - val_accuracy: 1.0000\n",
      "Epoch 306/500\n",
      "49/49 [==============================] - 0s 3ms/step - loss: 0.0305 - accuracy: 0.9898 - val_loss: 0.0220 - val_accuracy: 1.0000\n",
      "Epoch 307/500\n",
      "49/49 [==============================] - 0s 2ms/step - loss: 0.0319 - accuracy: 0.9911 - val_loss: 0.0474 - val_accuracy: 0.9773\n",
      "Epoch 308/500\n",
      "49/49 [==============================] - 0s 2ms/step - loss: 0.0330 - accuracy: 0.9962 - val_loss: 0.0401 - val_accuracy: 0.9773\n",
      "Epoch 309/500\n",
      "49/49 [==============================] - 0s 3ms/step - loss: 0.0353 - accuracy: 0.9911 - val_loss: 0.0194 - val_accuracy: 1.0000\n",
      "Epoch 310/500\n",
      "49/49 [==============================] - 0s 2ms/step - loss: 0.0254 - accuracy: 0.9911 - val_loss: 0.0195 - val_accuracy: 1.0000\n",
      "Epoch 311/500\n",
      "49/49 [==============================] - 0s 2ms/step - loss: 0.0250 - accuracy: 0.9911 - val_loss: 0.0231 - val_accuracy: 1.0000\n",
      "Epoch 312/500\n",
      "25/49 [==============>...............] - ETA: 0s - loss: 0.0458 - accuracy: 0.9850    INFO:tensorflow:Assets written to: models\\model-312.model\\assets\n"
     ]
    },
    {
     "name": "stderr",
     "output_type": "stream",
     "text": [
      "INFO:tensorflow:Assets written to: models\\model-312.model\\assets\n"
     ]
    },
    {
     "name": "stdout",
     "output_type": "stream",
     "text": [
      "49/49 [==============================] - 1s 14ms/step - loss: 0.0363 - accuracy: 0.9898 - val_loss: 0.0168 - val_accuracy: 1.0000\n",
      "Epoch 313/500\n",
      "49/49 [==============================] - 0s 3ms/step - loss: 0.0295 - accuracy: 0.9911 - val_loss: 0.0206 - val_accuracy: 1.0000\n",
      "Epoch 314/500\n",
      "49/49 [==============================] - 0s 2ms/step - loss: 0.0394 - accuracy: 0.9911 - val_loss: 0.0221 - val_accuracy: 1.0000\n",
      "Epoch 315/500\n",
      "28/49 [================>.............] - ETA: 0s - loss: 0.0243 - accuracy: 0.9955INFO:tensorflow:Assets written to: models\\model-315.model\\assets\n"
     ]
    },
    {
     "name": "stderr",
     "output_type": "stream",
     "text": [
      "INFO:tensorflow:Assets written to: models\\model-315.model\\assets\n"
     ]
    },
    {
     "name": "stdout",
     "output_type": "stream",
     "text": [
      "49/49 [==============================] - 1s 17ms/step - loss: 0.0187 - accuracy: 0.9962 - val_loss: 0.0153 - val_accuracy: 1.0000\n",
      "Epoch 316/500\n",
      "49/49 [==============================] - 0s 3ms/step - loss: 0.0240 - accuracy: 0.9936 - val_loss: 0.0155 - val_accuracy: 1.0000\n",
      "Epoch 317/500\n",
      "49/49 [==============================] - 0s 3ms/step - loss: 0.0273 - accuracy: 0.9898 - val_loss: 0.0156 - val_accuracy: 1.0000\n",
      "Epoch 318/500\n",
      "49/49 [==============================] - ETA: 0s - loss: 0.0298 - accuracy: 0.9911INFO:tensorflow:Assets written to: models\\model-318.model\\assets\n"
     ]
    },
    {
     "name": "stderr",
     "output_type": "stream",
     "text": [
      "INFO:tensorflow:Assets written to: models\\model-318.model\\assets\n"
     ]
    },
    {
     "name": "stdout",
     "output_type": "stream",
     "text": [
      "49/49 [==============================] - 1s 15ms/step - loss: 0.0298 - accuracy: 0.9911 - val_loss: 0.0123 - val_accuracy: 1.0000\n",
      "Epoch 319/500\n",
      "49/49 [==============================] - 0s 3ms/step - loss: 0.0223 - accuracy: 0.9962 - val_loss: 0.0158 - val_accuracy: 1.0000\n",
      "Epoch 320/500\n",
      "49/49 [==============================] - 0s 3ms/step - loss: 0.0362 - accuracy: 0.9847 - val_loss: 0.0147 - val_accuracy: 1.0000\n",
      "Epoch 321/500\n",
      "49/49 [==============================] - 0s 3ms/step - loss: 0.0442 - accuracy: 0.9847 - val_loss: 0.0149 - val_accuracy: 1.0000\n",
      "Epoch 322/500\n",
      "49/49 [==============================] - 0s 3ms/step - loss: 0.0412 - accuracy: 0.9860 - val_loss: 0.0144 - val_accuracy: 1.0000\n",
      "Epoch 323/500\n",
      "49/49 [==============================] - 0s 2ms/step - loss: 0.0230 - accuracy: 0.9949 - val_loss: 0.0136 - val_accuracy: 1.0000\n",
      "Epoch 324/500\n",
      "49/49 [==============================] - 0s 2ms/step - loss: 0.0465 - accuracy: 0.9936 - val_loss: 0.0139 - val_accuracy: 1.0000\n",
      "Epoch 325/500\n",
      "49/49 [==============================] - 0s 2ms/step - loss: 0.0157 - accuracy: 0.9987 - val_loss: 0.0129 - val_accuracy: 1.0000\n",
      "Epoch 326/500\n",
      "31/49 [=================>............] - ETA: 0s - loss: 0.0348 - accuracy: 0.9919INFO:tensorflow:Assets written to: models\\model-326.model\\assets\n"
     ]
    },
    {
     "name": "stderr",
     "output_type": "stream",
     "text": [
      "INFO:tensorflow:Assets written to: models\\model-326.model\\assets\n"
     ]
    },
    {
     "name": "stdout",
     "output_type": "stream",
     "text": [
      "49/49 [==============================] - 1s 15ms/step - loss: 0.0347 - accuracy: 0.9885 - val_loss: 0.0118 - val_accuracy: 1.0000\n",
      "Epoch 327/500\n",
      "49/49 [==============================] - 0s 3ms/step - loss: 0.0581 - accuracy: 0.9872 - val_loss: 0.0141 - val_accuracy: 1.0000\n",
      "Epoch 328/500\n",
      "49/49 [==============================] - 0s 3ms/step - loss: 0.0444 - accuracy: 0.9885 - val_loss: 0.0138 - val_accuracy: 1.0000\n",
      "Epoch 329/500\n",
      "49/49 [==============================] - 0s 3ms/step - loss: 0.0153 - accuracy: 0.9987 - val_loss: 0.0162 - val_accuracy: 1.0000\n",
      "Epoch 330/500\n",
      "49/49 [==============================] - 0s 3ms/step - loss: 0.0407 - accuracy: 0.9911 - val_loss: 0.0136 - val_accuracy: 1.0000\n",
      "Epoch 331/500\n",
      "49/49 [==============================] - 0s 3ms/step - loss: 0.0323 - accuracy: 0.9911 - val_loss: 0.0157 - val_accuracy: 1.0000\n",
      "Epoch 332/500\n",
      "49/49 [==============================] - 0s 3ms/step - loss: 0.0349 - accuracy: 0.9860 - val_loss: 0.0122 - val_accuracy: 1.0000\n",
      "Epoch 333/500\n",
      "49/49 [==============================] - 0s 3ms/step - loss: 0.0322 - accuracy: 0.9872 - val_loss: 0.0171 - val_accuracy: 1.0000\n",
      "Epoch 334/500\n",
      "49/49 [==============================] - 0s 3ms/step - loss: 0.0247 - accuracy: 0.9923 - val_loss: 0.0264 - val_accuracy: 1.0000\n",
      "Epoch 335/500\n",
      "49/49 [==============================] - 0s 2ms/step - loss: 0.0264 - accuracy: 0.9898 - val_loss: 0.0180 - val_accuracy: 1.0000\n",
      "Epoch 336/500\n",
      "49/49 [==============================] - 0s 3ms/step - loss: 0.0341 - accuracy: 0.9860 - val_loss: 0.0124 - val_accuracy: 1.0000\n",
      "Epoch 337/500\n",
      "49/49 [==============================] - 0s 3ms/step - loss: 0.0206 - accuracy: 0.9962 - val_loss: 0.0178 - val_accuracy: 1.0000\n",
      "Epoch 338/500\n",
      "49/49 [==============================] - 0s 3ms/step - loss: 0.0277 - accuracy: 0.9911 - val_loss: 0.0176 - val_accuracy: 1.0000\n",
      "Epoch 339/500\n",
      "49/49 [==============================] - 0s 2ms/step - loss: 0.0275 - accuracy: 0.9885 - val_loss: 0.0160 - val_accuracy: 1.0000\n",
      "Epoch 340/500\n",
      "49/49 [==============================] - 0s 3ms/step - loss: 0.0292 - accuracy: 0.9923 - val_loss: 0.0139 - val_accuracy: 1.0000\n",
      "Epoch 341/500\n",
      "49/49 [==============================] - 0s 2ms/step - loss: 0.0389 - accuracy: 0.9872 - val_loss: 0.0147 - val_accuracy: 1.0000\n",
      "Epoch 342/500\n",
      "49/49 [==============================] - 0s 2ms/step - loss: 0.0217 - accuracy: 0.9936 - val_loss: 0.0128 - val_accuracy: 1.0000\n",
      "Epoch 343/500\n",
      "49/49 [==============================] - ETA: 0s - loss: 0.0278 - accuracy: 0.9923INFO:tensorflow:Assets written to: models\\model-343.model\\assets\n"
     ]
    },
    {
     "name": "stderr",
     "output_type": "stream",
     "text": [
      "INFO:tensorflow:Assets written to: models\\model-343.model\\assets\n"
     ]
    },
    {
     "name": "stdout",
     "output_type": "stream",
     "text": [
      "49/49 [==============================] - 1s 15ms/step - loss: 0.0278 - accuracy: 0.9923 - val_loss: 0.0114 - val_accuracy: 1.0000\n",
      "Epoch 344/500\n",
      "49/49 [==============================] - 0s 3ms/step - loss: 0.0301 - accuracy: 0.9923 - val_loss: 0.0139 - val_accuracy: 1.0000\n",
      "Epoch 345/500\n",
      "49/49 [==============================] - 0s 2ms/step - loss: 0.0329 - accuracy: 0.9898 - val_loss: 0.0131 - val_accuracy: 1.0000\n",
      "Epoch 346/500\n",
      "30/49 [=================>............] - ETA: 0s - loss: 0.0205 - accuracy: 0.9937INFO:tensorflow:Assets written to: models\\model-346.model\\assets\n"
     ]
    },
    {
     "name": "stderr",
     "output_type": "stream",
     "text": [
      "INFO:tensorflow:Assets written to: models\\model-346.model\\assets\n"
     ]
    },
    {
     "name": "stdout",
     "output_type": "stream",
     "text": [
      "49/49 [==============================] - 1s 14ms/step - loss: 0.0212 - accuracy: 0.9936 - val_loss: 0.0100 - val_accuracy: 1.0000\n",
      "Epoch 347/500\n",
      "49/49 [==============================] - 0s 3ms/step - loss: 0.0295 - accuracy: 0.9923 - val_loss: 0.0125 - val_accuracy: 1.0000\n",
      "Epoch 348/500\n",
      "49/49 [==============================] - 0s 3ms/step - loss: 0.0286 - accuracy: 0.9936 - val_loss: 0.0105 - val_accuracy: 1.0000\n",
      "Epoch 349/500\n",
      "49/49 [==============================] - 0s 2ms/step - loss: 0.0346 - accuracy: 0.9936 - val_loss: 0.0136 - val_accuracy: 1.0000\n",
      "Epoch 350/500\n",
      "49/49 [==============================] - 0s 2ms/step - loss: 0.0282 - accuracy: 0.9923 - val_loss: 0.0180 - val_accuracy: 1.0000\n",
      "Epoch 351/500\n",
      "49/49 [==============================] - 0s 3ms/step - loss: 0.0397 - accuracy: 0.9860 - val_loss: 0.0127 - val_accuracy: 1.0000\n",
      "Epoch 352/500\n",
      "49/49 [==============================] - 0s 3ms/step - loss: 0.0229 - accuracy: 0.9974 - val_loss: 0.0118 - val_accuracy: 1.0000\n",
      "Epoch 353/500\n",
      "49/49 [==============================] - 0s 3ms/step - loss: 0.0439 - accuracy: 0.9847 - val_loss: 0.0180 - val_accuracy: 1.0000\n",
      "Epoch 354/500\n",
      "49/49 [==============================] - 0s 3ms/step - loss: 0.0232 - accuracy: 0.9936 - val_loss: 0.0257 - val_accuracy: 1.0000\n",
      "Epoch 355/500\n",
      "49/49 [==============================] - 0s 2ms/step - loss: 0.0471 - accuracy: 0.9808 - val_loss: 0.0183 - val_accuracy: 1.0000\n",
      "Epoch 356/500\n",
      "49/49 [==============================] - 0s 2ms/step - loss: 0.0370 - accuracy: 0.9885 - val_loss: 0.0145 - val_accuracy: 1.0000\n",
      "Epoch 357/500\n",
      "49/49 [==============================] - 0s 2ms/step - loss: 0.0211 - accuracy: 0.9936 - val_loss: 0.0107 - val_accuracy: 1.0000\n",
      "Epoch 358/500\n",
      "49/49 [==============================] - 0s 2ms/step - loss: 0.0218 - accuracy: 0.9936 - val_loss: 0.0122 - val_accuracy: 1.0000\n",
      "Epoch 359/500\n",
      "49/49 [==============================] - 0s 2ms/step - loss: 0.0222 - accuracy: 0.9936 - val_loss: 0.0116 - val_accuracy: 1.0000\n",
      "Epoch 360/500\n",
      "49/49 [==============================] - 0s 3ms/step - loss: 0.0268 - accuracy: 0.9923 - val_loss: 0.0122 - val_accuracy: 1.0000\n",
      "Epoch 361/500\n",
      "49/49 [==============================] - 0s 2ms/step - loss: 0.0222 - accuracy: 0.9911 - val_loss: 0.0110 - val_accuracy: 1.0000\n",
      "Epoch 362/500\n",
      "29/49 [================>.............] - ETA: 0s - loss: 0.0151 - accuracy: 0.9978INFO:tensorflow:Assets written to: models\\model-362.model\\assets\n"
     ]
    },
    {
     "name": "stderr",
     "output_type": "stream",
     "text": [
      "INFO:tensorflow:Assets written to: models\\model-362.model\\assets\n"
     ]
    },
    {
     "name": "stdout",
     "output_type": "stream",
     "text": [
      "49/49 [==============================] - 1s 14ms/step - loss: 0.0142 - accuracy: 0.9987 - val_loss: 0.0100 - val_accuracy: 1.0000\n",
      "Epoch 363/500\n",
      "49/49 [==============================] - 0s 3ms/step - loss: 0.0398 - accuracy: 0.9885 - val_loss: 0.0403 - val_accuracy: 0.9773\n",
      "Epoch 364/500\n",
      "49/49 [==============================] - 0s 3ms/step - loss: 0.0457 - accuracy: 0.9808 - val_loss: 0.0207 - val_accuracy: 1.0000\n",
      "Epoch 365/500\n",
      "49/49 [==============================] - 0s 2ms/step - loss: 0.0334 - accuracy: 0.9898 - val_loss: 0.0111 - val_accuracy: 1.0000\n",
      "Epoch 366/500\n",
      "49/49 [==============================] - 0s 2ms/step - loss: 0.0231 - accuracy: 0.9923 - val_loss: 0.0139 - val_accuracy: 1.0000\n",
      "Epoch 367/500\n",
      "49/49 [==============================] - 0s 2ms/step - loss: 0.0179 - accuracy: 0.9936 - val_loss: 0.0123 - val_accuracy: 1.0000\n",
      "Epoch 368/500\n",
      "23/49 [=============>................] - ETA: 0s - loss: 0.0314 - accuracy: 0.9864INFO:tensorflow:Assets written to: models\\model-368.model\\assets\n"
     ]
    },
    {
     "name": "stderr",
     "output_type": "stream",
     "text": [
      "INFO:tensorflow:Assets written to: models\\model-368.model\\assets\n"
     ]
    },
    {
     "name": "stdout",
     "output_type": "stream",
     "text": [
      "49/49 [==============================] - 1s 15ms/step - loss: 0.0295 - accuracy: 0.9885 - val_loss: 0.0094 - val_accuracy: 1.0000\n",
      "Epoch 369/500\n",
      "49/49 [==============================] - ETA: 0s - loss: 0.0204 - accuracy: 0.9949INFO:tensorflow:Assets written to: models\\model-369.model\\assets\n"
     ]
    },
    {
     "name": "stderr",
     "output_type": "stream",
     "text": [
      "INFO:tensorflow:Assets written to: models\\model-369.model\\assets\n"
     ]
    },
    {
     "name": "stdout",
     "output_type": "stream",
     "text": [
      "49/49 [==============================] - 1s 15ms/step - loss: 0.0204 - accuracy: 0.9949 - val_loss: 0.0088 - val_accuracy: 1.0000\n",
      "Epoch 370/500\n",
      "49/49 [==============================] - 0s 3ms/step - loss: 0.0355 - accuracy: 0.9898 - val_loss: 0.0107 - val_accuracy: 1.0000\n",
      "Epoch 371/500\n",
      "49/49 [==============================] - 0s 2ms/step - loss: 0.0285 - accuracy: 0.9923 - val_loss: 0.0119 - val_accuracy: 1.0000\n",
      "Epoch 372/500\n",
      "28/49 [================>.............] - ETA: 0s - loss: 0.0295 - accuracy: 0.9955INFO:tensorflow:Assets written to: models\\model-372.model\\assets\n"
     ]
    },
    {
     "name": "stderr",
     "output_type": "stream",
     "text": [
      "INFO:tensorflow:Assets written to: models\\model-372.model\\assets\n"
     ]
    },
    {
     "name": "stdout",
     "output_type": "stream",
     "text": [
      "49/49 [==============================] - 1s 14ms/step - loss: 0.0204 - accuracy: 0.9974 - val_loss: 0.0071 - val_accuracy: 1.0000\n",
      "Epoch 373/500\n",
      "28/49 [================>.............] - ETA: 0s - loss: 0.0181 - accuracy: 0.9955INFO:tensorflow:Assets written to: models\\model-373.model\\assets\n"
     ]
    },
    {
     "name": "stderr",
     "output_type": "stream",
     "text": [
      "INFO:tensorflow:Assets written to: models\\model-373.model\\assets\n"
     ]
    },
    {
     "name": "stdout",
     "output_type": "stream",
     "text": [
      "49/49 [==============================] - 1s 17ms/step - loss: 0.0186 - accuracy: 0.9936 - val_loss: 0.0068 - val_accuracy: 1.0000\n",
      "Epoch 374/500\n",
      "49/49 [==============================] - 0s 3ms/step - loss: 0.0238 - accuracy: 0.9936 - val_loss: 0.0081 - val_accuracy: 1.0000\n",
      "Epoch 375/500\n",
      "49/49 [==============================] - 0s 2ms/step - loss: 0.0283 - accuracy: 0.9885 - val_loss: 0.0095 - val_accuracy: 1.0000\n",
      "Epoch 376/500\n",
      "49/49 [==============================] - 0s 2ms/step - loss: 0.0302 - accuracy: 0.9911 - val_loss: 0.0073 - val_accuracy: 1.0000\n",
      "Epoch 377/500\n",
      "49/49 [==============================] - 0s 3ms/step - loss: 0.0235 - accuracy: 0.9911 - val_loss: 0.0087 - val_accuracy: 1.0000\n",
      "Epoch 378/500\n",
      "49/49 [==============================] - 0s 2ms/step - loss: 0.0255 - accuracy: 0.9911 - val_loss: 0.0089 - val_accuracy: 1.0000\n",
      "Epoch 379/500\n",
      "49/49 [==============================] - 0s 3ms/step - loss: 0.0201 - accuracy: 0.9949 - val_loss: 0.0127 - val_accuracy: 1.0000\n",
      "Epoch 380/500\n",
      "49/49 [==============================] - 0s 3ms/step - loss: 0.0160 - accuracy: 0.9974 - val_loss: 0.0153 - val_accuracy: 1.0000\n",
      "Epoch 381/500\n",
      "49/49 [==============================] - 0s 3ms/step - loss: 0.0232 - accuracy: 0.9949 - val_loss: 0.0073 - val_accuracy: 1.0000\n",
      "Epoch 382/500\n",
      "49/49 [==============================] - 0s 3ms/step - loss: 0.0268 - accuracy: 0.9885 - val_loss: 0.0089 - val_accuracy: 1.0000\n",
      "Epoch 383/500\n",
      "49/49 [==============================] - 0s 3ms/step - loss: 0.0249 - accuracy: 0.9949 - val_loss: 0.0089 - val_accuracy: 1.0000\n",
      "Epoch 384/500\n",
      "49/49 [==============================] - 0s 2ms/step - loss: 0.0241 - accuracy: 0.9911 - val_loss: 0.0112 - val_accuracy: 1.0000\n",
      "Epoch 385/500\n",
      "49/49 [==============================] - 0s 2ms/step - loss: 0.0183 - accuracy: 0.9974 - val_loss: 0.0088 - val_accuracy: 1.0000\n",
      "Epoch 386/500\n",
      "49/49 [==============================] - 0s 2ms/step - loss: 0.0206 - accuracy: 0.9923 - val_loss: 0.0133 - val_accuracy: 1.0000\n",
      "Epoch 387/500\n",
      "49/49 [==============================] - 0s 2ms/step - loss: 0.0245 - accuracy: 0.9898 - val_loss: 0.0083 - val_accuracy: 1.0000\n",
      "Epoch 388/500\n",
      "49/49 [==============================] - 0s 2ms/step - loss: 0.0281 - accuracy: 0.9911 - val_loss: 0.0089 - val_accuracy: 1.0000\n",
      "Epoch 389/500\n",
      "49/49 [==============================] - 0s 3ms/step - loss: 0.0280 - accuracy: 0.9923 - val_loss: 0.0092 - val_accuracy: 1.0000\n",
      "Epoch 390/500\n",
      "49/49 [==============================] - 0s 3ms/step - loss: 0.0252 - accuracy: 0.9923 - val_loss: 0.0118 - val_accuracy: 1.0000\n",
      "Epoch 391/500\n",
      "49/49 [==============================] - 0s 2ms/step - loss: 0.0253 - accuracy: 0.9949 - val_loss: 0.0091 - val_accuracy: 1.0000\n",
      "Epoch 392/500\n",
      "49/49 [==============================] - 0s 3ms/step - loss: 0.0174 - accuracy: 0.9936 - val_loss: 0.0084 - val_accuracy: 1.0000\n",
      "Epoch 393/500\n",
      "49/49 [==============================] - 0s 2ms/step - loss: 0.0219 - accuracy: 0.9936 - val_loss: 0.0094 - val_accuracy: 1.0000\n",
      "Epoch 394/500\n",
      "49/49 [==============================] - 0s 3ms/step - loss: 0.0290 - accuracy: 0.9898 - val_loss: 0.0079 - val_accuracy: 1.0000\n",
      "Epoch 395/500\n",
      "49/49 [==============================] - 0s 2ms/step - loss: 0.0184 - accuracy: 0.9962 - val_loss: 0.0091 - val_accuracy: 1.0000\n",
      "Epoch 396/500\n",
      "49/49 [==============================] - 0s 3ms/step - loss: 0.0519 - accuracy: 0.9847 - val_loss: 0.0080 - val_accuracy: 1.0000\n",
      "Epoch 397/500\n",
      "49/49 [==============================] - 0s 2ms/step - loss: 0.0175 - accuracy: 0.9949 - val_loss: 0.0078 - val_accuracy: 1.0000\n",
      "Epoch 398/500\n",
      "49/49 [==============================] - 0s 3ms/step - loss: 0.0254 - accuracy: 0.9923 - val_loss: 0.0082 - val_accuracy: 1.0000\n",
      "Epoch 399/500\n",
      "49/49 [==============================] - 0s 3ms/step - loss: 0.0164 - accuracy: 0.9962 - val_loss: 0.0077 - val_accuracy: 1.0000\n",
      "Epoch 400/500\n",
      "31/49 [=================>............] - ETA: 0s - loss: 0.0116 - accuracy: 0.9960INFO:tensorflow:Assets written to: models\\model-400.model\\assets\n"
     ]
    },
    {
     "name": "stderr",
     "output_type": "stream",
     "text": [
      "INFO:tensorflow:Assets written to: models\\model-400.model\\assets\n"
     ]
    },
    {
     "name": "stdout",
     "output_type": "stream",
     "text": [
      "49/49 [==============================] - 1s 14ms/step - loss: 0.0104 - accuracy: 0.9974 - val_loss: 0.0062 - val_accuracy: 1.0000\n",
      "Epoch 401/500\n",
      "49/49 [==============================] - 0s 3ms/step - loss: 0.0235 - accuracy: 0.9898 - val_loss: 0.0074 - val_accuracy: 1.0000\n",
      "Epoch 402/500\n",
      "49/49 [==============================] - 0s 3ms/step - loss: 0.0200 - accuracy: 0.9949 - val_loss: 0.0083 - val_accuracy: 1.0000\n",
      "Epoch 403/500\n",
      "30/49 [=================>............] - ETA: 0s - loss: 0.0222 - accuracy: 0.9896    INFO:tensorflow:Assets written to: models\\model-403.model\\assets\n"
     ]
    },
    {
     "name": "stderr",
     "output_type": "stream",
     "text": [
      "INFO:tensorflow:Assets written to: models\\model-403.model\\assets\n"
     ]
    },
    {
     "name": "stdout",
     "output_type": "stream",
     "text": [
      "49/49 [==============================] - 1s 14ms/step - loss: 0.0317 - accuracy: 0.9898 - val_loss: 0.0056 - val_accuracy: 1.0000\n",
      "Epoch 404/500\n",
      "49/49 [==============================] - 0s 3ms/step - loss: 0.0231 - accuracy: 0.9936 - val_loss: 0.0106 - val_accuracy: 1.0000\n",
      "Epoch 405/500\n",
      "49/49 [==============================] - 0s 2ms/step - loss: 0.0158 - accuracy: 0.9949 - val_loss: 0.0058 - val_accuracy: 1.0000\n",
      "Epoch 406/500\n",
      "49/49 [==============================] - 0s 2ms/step - loss: 0.0213 - accuracy: 0.9936 - val_loss: 0.0089 - val_accuracy: 1.0000\n",
      "Epoch 407/500\n",
      "49/49 [==============================] - 0s 3ms/step - loss: 0.0345 - accuracy: 0.9885 - val_loss: 0.0088 - val_accuracy: 1.0000\n",
      "Epoch 408/500\n",
      "49/49 [==============================] - 0s 2ms/step - loss: 0.0288 - accuracy: 0.9923 - val_loss: 0.0072 - val_accuracy: 1.0000\n",
      "Epoch 409/500\n",
      "49/49 [==============================] - 0s 3ms/step - loss: 0.0294 - accuracy: 0.9936 - val_loss: 0.0069 - val_accuracy: 1.0000\n",
      "Epoch 410/500\n",
      "49/49 [==============================] - 0s 2ms/step - loss: 0.0443 - accuracy: 0.9885 - val_loss: 0.0063 - val_accuracy: 1.0000\n",
      "Epoch 411/500\n",
      "49/49 [==============================] - 0s 2ms/step - loss: 0.0288 - accuracy: 0.9911 - val_loss: 0.0067 - val_accuracy: 1.0000\n",
      "Epoch 412/500\n",
      "49/49 [==============================] - 0s 3ms/step - loss: 0.0268 - accuracy: 0.9923 - val_loss: 0.0083 - val_accuracy: 1.0000\n",
      "Epoch 413/500\n",
      "49/49 [==============================] - 0s 3ms/step - loss: 0.0195 - accuracy: 0.9936 - val_loss: 0.0062 - val_accuracy: 1.0000\n",
      "Epoch 414/500\n",
      "49/49 [==============================] - 0s 2ms/step - loss: 0.0149 - accuracy: 0.9974 - val_loss: 0.0057 - val_accuracy: 1.0000\n",
      "Epoch 415/500\n",
      "49/49 [==============================] - 0s 3ms/step - loss: 0.0261 - accuracy: 0.9936 - val_loss: 0.0072 - val_accuracy: 1.0000\n",
      "Epoch 416/500\n",
      "49/49 [==============================] - 0s 3ms/step - loss: 0.0200 - accuracy: 0.9962 - val_loss: 0.0090 - val_accuracy: 1.0000\n",
      "Epoch 417/500\n",
      "49/49 [==============================] - 0s 3ms/step - loss: 0.0174 - accuracy: 0.9949 - val_loss: 0.0067 - val_accuracy: 1.0000\n",
      "Epoch 418/500\n",
      "49/49 [==============================] - 0s 2ms/step - loss: 0.0267 - accuracy: 0.9936 - val_loss: 0.0073 - val_accuracy: 1.0000\n",
      "Epoch 419/500\n",
      "49/49 [==============================] - 0s 3ms/step - loss: 0.0180 - accuracy: 0.9936 - val_loss: 0.0068 - val_accuracy: 1.0000\n",
      "Epoch 420/500\n",
      "49/49 [==============================] - 0s 3ms/step - loss: 0.0341 - accuracy: 0.9872 - val_loss: 0.0067 - val_accuracy: 1.0000\n",
      "Epoch 421/500\n",
      "49/49 [==============================] - 0s 3ms/step - loss: 0.0198 - accuracy: 0.9974 - val_loss: 0.0060 - val_accuracy: 1.0000\n",
      "Epoch 422/500\n",
      "49/49 [==============================] - 0s 3ms/step - loss: 0.0282 - accuracy: 0.9923 - val_loss: 0.0059 - val_accuracy: 1.0000\n",
      "Epoch 423/500\n",
      "47/49 [===========================>..] - ETA: 0s - loss: 0.0129 - accuracy: 0.9987INFO:tensorflow:Assets written to: models\\model-423.model\\assets\n"
     ]
    },
    {
     "name": "stderr",
     "output_type": "stream",
     "text": [
      "INFO:tensorflow:Assets written to: models\\model-423.model\\assets\n"
     ]
    },
    {
     "name": "stdout",
     "output_type": "stream",
     "text": [
      "49/49 [==============================] - 1s 15ms/step - loss: 0.0127 - accuracy: 0.9987 - val_loss: 0.0051 - val_accuracy: 1.0000\n",
      "Epoch 424/500\n",
      "49/49 [==============================] - 0s 3ms/step - loss: 0.0157 - accuracy: 0.9949 - val_loss: 0.0056 - val_accuracy: 1.0000\n",
      "Epoch 425/500\n",
      "49/49 [==============================] - 0s 3ms/step - loss: 0.0305 - accuracy: 0.9936 - val_loss: 0.0057 - val_accuracy: 1.0000\n",
      "Epoch 426/500\n",
      "49/49 [==============================] - 0s 3ms/step - loss: 0.0181 - accuracy: 0.9936 - val_loss: 0.0070 - val_accuracy: 1.0000\n",
      "Epoch 427/500\n",
      "49/49 [==============================] - 0s 2ms/step - loss: 0.0236 - accuracy: 0.9898 - val_loss: 0.0096 - val_accuracy: 1.0000\n",
      "Epoch 428/500\n",
      "49/49 [==============================] - 0s 2ms/step - loss: 0.0250 - accuracy: 0.9962 - val_loss: 0.0081 - val_accuracy: 1.0000\n",
      "Epoch 429/500\n",
      "49/49 [==============================] - 0s 2ms/step - loss: 0.0204 - accuracy: 0.9962 - val_loss: 0.0056 - val_accuracy: 1.0000\n",
      "Epoch 430/500\n",
      "49/49 [==============================] - 0s 3ms/step - loss: 0.0321 - accuracy: 0.9872 - val_loss: 0.0087 - val_accuracy: 1.0000\n",
      "Epoch 431/500\n",
      "49/49 [==============================] - 0s 3ms/step - loss: 0.0157 - accuracy: 0.9962 - val_loss: 0.0061 - val_accuracy: 1.0000\n",
      "Epoch 432/500\n",
      "49/49 [==============================] - 0s 3ms/step - loss: 0.0170 - accuracy: 0.9936 - val_loss: 0.0146 - val_accuracy: 1.0000\n",
      "Epoch 433/500\n",
      "49/49 [==============================] - 0s 3ms/step - loss: 0.0183 - accuracy: 0.9936 - val_loss: 0.0058 - val_accuracy: 1.0000\n",
      "Epoch 434/500\n",
      "49/49 [==============================] - 0s 3ms/step - loss: 0.0207 - accuracy: 0.9911 - val_loss: 0.0083 - val_accuracy: 1.0000\n",
      "Epoch 435/500\n",
      "49/49 [==============================] - 0s 2ms/step - loss: 0.0297 - accuracy: 0.9898 - val_loss: 0.0067 - val_accuracy: 1.0000\n",
      "Epoch 436/500\n",
      "49/49 [==============================] - 0s 3ms/step - loss: 0.0251 - accuracy: 0.9885 - val_loss: 0.0093 - val_accuracy: 1.0000\n",
      "Epoch 437/500\n",
      "49/49 [==============================] - 0s 3ms/step - loss: 0.0234 - accuracy: 0.9923 - val_loss: 0.0071 - val_accuracy: 1.0000\n",
      "Epoch 438/500\n",
      "49/49 [==============================] - 0s 2ms/step - loss: 0.0148 - accuracy: 0.9962 - val_loss: 0.0064 - val_accuracy: 1.0000\n",
      "Epoch 439/500\n",
      "49/49 [==============================] - 0s 2ms/step - loss: 0.0142 - accuracy: 0.9962 - val_loss: 0.0052 - val_accuracy: 1.0000\n",
      "Epoch 440/500\n",
      "49/49 [==============================] - 0s 3ms/step - loss: 0.0150 - accuracy: 0.9949 - val_loss: 0.0059 - val_accuracy: 1.0000\n",
      "Epoch 441/500\n",
      "49/49 [==============================] - 0s 3ms/step - loss: 0.0193 - accuracy: 0.9936 - val_loss: 0.0054 - val_accuracy: 1.0000\n",
      "Epoch 442/500\n",
      "49/49 [==============================] - 0s 2ms/step - loss: 0.0194 - accuracy: 0.9923 - val_loss: 0.0062 - val_accuracy: 1.0000\n",
      "Epoch 443/500\n",
      "33/49 [===================>..........] - ETA: 0s - loss: 0.0130 - accuracy: 0.9943INFO:tensorflow:Assets written to: models\\model-443.model\\assets\n"
     ]
    },
    {
     "name": "stderr",
     "output_type": "stream",
     "text": [
      "INFO:tensorflow:Assets written to: models\\model-443.model\\assets\n"
     ]
    },
    {
     "name": "stdout",
     "output_type": "stream",
     "text": [
      "49/49 [==============================] - 1s 16ms/step - loss: 0.0136 - accuracy: 0.9949 - val_loss: 0.0050 - val_accuracy: 1.0000\n",
      "Epoch 444/500\n",
      "49/49 [==============================] - 0s 3ms/step - loss: 0.0260 - accuracy: 0.9923 - val_loss: 0.0063 - val_accuracy: 1.0000\n",
      "Epoch 445/500\n",
      "49/49 [==============================] - 0s 3ms/step - loss: 0.0115 - accuracy: 0.9974 - val_loss: 0.0097 - val_accuracy: 1.0000\n",
      "Epoch 446/500\n",
      "49/49 [==============================] - 0s 2ms/step - loss: 0.0227 - accuracy: 0.9911 - val_loss: 0.0052 - val_accuracy: 1.0000\n",
      "Epoch 447/500\n",
      "49/49 [==============================] - 0s 2ms/step - loss: 0.0262 - accuracy: 0.9923 - val_loss: 0.0143 - val_accuracy: 1.0000\n",
      "Epoch 448/500\n",
      "49/49 [==============================] - 0s 2ms/step - loss: 0.0142 - accuracy: 0.9962 - val_loss: 0.0157 - val_accuracy: 1.0000\n",
      "Epoch 449/500\n",
      "49/49 [==============================] - 0s 3ms/step - loss: 0.0209 - accuracy: 0.9911 - val_loss: 0.0071 - val_accuracy: 1.0000\n",
      "Epoch 450/500\n",
      "28/49 [================>.............] - ETA: 0s - loss: 0.0205 - accuracy: 0.9933INFO:tensorflow:Assets written to: models\\model-450.model\\assets\n"
     ]
    },
    {
     "name": "stderr",
     "output_type": "stream",
     "text": [
      "INFO:tensorflow:Assets written to: models\\model-450.model\\assets\n"
     ]
    },
    {
     "name": "stdout",
     "output_type": "stream",
     "text": [
      "49/49 [==============================] - 1s 14ms/step - loss: 0.0270 - accuracy: 0.9911 - val_loss: 0.0049 - val_accuracy: 1.0000\n",
      "Epoch 451/500\n",
      "49/49 [==============================] - 0s 3ms/step - loss: 0.0244 - accuracy: 0.9898 - val_loss: 0.0051 - val_accuracy: 1.0000\n",
      "Epoch 452/500\n",
      "49/49 [==============================] - 0s 2ms/step - loss: 0.0164 - accuracy: 0.9936 - val_loss: 0.0125 - val_accuracy: 1.0000\n",
      "Epoch 453/500\n",
      "49/49 [==============================] - 0s 2ms/step - loss: 0.0298 - accuracy: 0.9885 - val_loss: 0.0058 - val_accuracy: 1.0000\n",
      "Epoch 454/500\n",
      "49/49 [==============================] - 0s 3ms/step - loss: 0.0194 - accuracy: 0.9949 - val_loss: 0.0067 - val_accuracy: 1.0000\n",
      "Epoch 455/500\n",
      "49/49 [==============================] - 0s 3ms/step - loss: 0.0309 - accuracy: 0.9936 - val_loss: 0.0076 - val_accuracy: 1.0000\n",
      "Epoch 456/500\n",
      "49/49 [==============================] - 0s 2ms/step - loss: 0.0247 - accuracy: 0.9872 - val_loss: 0.0067 - val_accuracy: 1.0000\n",
      "Epoch 457/500\n",
      "49/49 [==============================] - 0s 3ms/step - loss: 0.0204 - accuracy: 0.9936 - val_loss: 0.0068 - val_accuracy: 1.0000\n",
      "Epoch 458/500\n",
      "49/49 [==============================] - 0s 3ms/step - loss: 0.0327 - accuracy: 0.9911 - val_loss: 0.0069 - val_accuracy: 1.0000\n",
      "Epoch 459/500\n",
      "49/49 [==============================] - 0s 3ms/step - loss: 0.0208 - accuracy: 0.9949 - val_loss: 0.0056 - val_accuracy: 1.0000\n",
      "Epoch 460/500\n",
      "49/49 [==============================] - 0s 2ms/step - loss: 0.0201 - accuracy: 0.9949 - val_loss: 0.0060 - val_accuracy: 1.0000\n",
      "Epoch 461/500\n",
      "49/49 [==============================] - 0s 2ms/step - loss: 0.0127 - accuracy: 0.9962 - val_loss: 0.0066 - val_accuracy: 1.0000\n",
      "Epoch 462/500\n",
      "49/49 [==============================] - 0s 2ms/step - loss: 0.0191 - accuracy: 0.9962 - val_loss: 0.0068 - val_accuracy: 1.0000\n",
      "Epoch 463/500\n",
      "49/49 [==============================] - 0s 2ms/step - loss: 0.0082 - accuracy: 0.9987 - val_loss: 0.0065 - val_accuracy: 1.0000\n",
      "Epoch 464/500\n",
      "49/49 [==============================] - 0s 3ms/step - loss: 0.0236 - accuracy: 0.9936 - val_loss: 0.0072 - val_accuracy: 1.0000\n",
      "Epoch 465/500\n",
      "49/49 [==============================] - 0s 2ms/step - loss: 0.0239 - accuracy: 0.9911 - val_loss: 0.0066 - val_accuracy: 1.0000\n",
      "Epoch 466/500\n",
      "49/49 [==============================] - 0s 2ms/step - loss: 0.0331 - accuracy: 0.9898 - val_loss: 0.0067 - val_accuracy: 1.0000\n",
      "Epoch 467/500\n",
      "49/49 [==============================] - 0s 2ms/step - loss: 0.0236 - accuracy: 0.9911 - val_loss: 0.0085 - val_accuracy: 1.0000\n",
      "Epoch 468/500\n",
      "49/49 [==============================] - 0s 2ms/step - loss: 0.0219 - accuracy: 0.9898 - val_loss: 0.0057 - val_accuracy: 1.0000\n",
      "Epoch 469/500\n",
      "49/49 [==============================] - 0s 3ms/step - loss: 0.0131 - accuracy: 0.9962 - val_loss: 0.0051 - val_accuracy: 1.0000\n",
      "Epoch 470/500\n",
      "49/49 [==============================] - 0s 2ms/step - loss: 0.0095 - accuracy: 0.9987 - val_loss: 0.0052 - val_accuracy: 1.0000\n",
      "Epoch 471/500\n",
      "49/49 [==============================] - 0s 2ms/step - loss: 0.0111 - accuracy: 0.9962 - val_loss: 0.0054 - val_accuracy: 1.0000\n",
      "Epoch 472/500\n",
      "49/49 [==============================] - 0s 2ms/step - loss: 0.0115 - accuracy: 0.9962 - val_loss: 0.0057 - val_accuracy: 1.0000\n",
      "Epoch 473/500\n",
      "49/49 [==============================] - 0s 2ms/step - loss: 0.0168 - accuracy: 0.9962 - val_loss: 0.0067 - val_accuracy: 1.0000\n",
      "Epoch 474/500\n",
      "49/49 [==============================] - 0s 2ms/step - loss: 0.0138 - accuracy: 0.9987 - val_loss: 0.0063 - val_accuracy: 1.0000\n",
      "Epoch 475/500\n",
      "49/49 [==============================] - 0s 2ms/step - loss: 0.0112 - accuracy: 0.9949 - val_loss: 0.0067 - val_accuracy: 1.0000\n",
      "Epoch 476/500\n",
      "49/49 [==============================] - 0s 2ms/step - loss: 0.0317 - accuracy: 0.9936 - val_loss: 0.0071 - val_accuracy: 1.0000\n",
      "Epoch 477/500\n",
      "49/49 [==============================] - 0s 2ms/step - loss: 0.0278 - accuracy: 0.9898 - val_loss: 0.0113 - val_accuracy: 1.0000\n",
      "Epoch 478/500\n",
      "49/49 [==============================] - 0s 3ms/step - loss: 0.0271 - accuracy: 0.9911 - val_loss: 0.0184 - val_accuracy: 1.0000\n",
      "Epoch 479/500\n",
      "49/49 [==============================] - 0s 2ms/step - loss: 0.0183 - accuracy: 0.9923 - val_loss: 0.0053 - val_accuracy: 1.0000\n",
      "Epoch 480/500\n",
      "49/49 [==============================] - 0s 3ms/step - loss: 0.0092 - accuracy: 0.9974 - val_loss: 0.0051 - val_accuracy: 1.0000\n",
      "Epoch 481/500\n",
      "49/49 [==============================] - 0s 2ms/step - loss: 0.0121 - accuracy: 0.9974 - val_loss: 0.0060 - val_accuracy: 1.0000\n",
      "Epoch 482/500\n",
      "49/49 [==============================] - 0s 2ms/step - loss: 0.0167 - accuracy: 0.9962 - val_loss: 0.0059 - val_accuracy: 1.0000\n",
      "Epoch 483/500\n",
      "49/49 [==============================] - 0s 2ms/step - loss: 0.0245 - accuracy: 0.9923 - val_loss: 0.0180 - val_accuracy: 0.9886\n",
      "Epoch 484/500\n",
      "49/49 [==============================] - 0s 2ms/step - loss: 0.0213 - accuracy: 0.9923 - val_loss: 0.0060 - val_accuracy: 1.0000\n",
      "Epoch 485/500\n",
      "49/49 [==============================] - 0s 3ms/step - loss: 0.0256 - accuracy: 0.9885 - val_loss: 0.0056 - val_accuracy: 1.0000\n",
      "Epoch 486/500\n",
      "49/49 [==============================] - 0s 2ms/step - loss: 0.0254 - accuracy: 0.9923 - val_loss: 0.0066 - val_accuracy: 1.0000\n",
      "Epoch 487/500\n",
      "49/49 [==============================] - 0s 2ms/step - loss: 0.0222 - accuracy: 0.9936 - val_loss: 0.0072 - val_accuracy: 1.0000\n",
      "Epoch 488/500\n",
      "49/49 [==============================] - 0s 3ms/step - loss: 0.0214 - accuracy: 0.9936 - val_loss: 0.0054 - val_accuracy: 1.0000\n",
      "Epoch 489/500\n",
      "49/49 [==============================] - 0s 3ms/step - loss: 0.0186 - accuracy: 0.9936 - val_loss: 0.0054 - val_accuracy: 1.0000\n",
      "Epoch 490/500\n",
      "49/49 [==============================] - 0s 2ms/step - loss: 0.0236 - accuracy: 0.9936 - val_loss: 0.0056 - val_accuracy: 1.0000\n",
      "Epoch 491/500\n",
      "49/49 [==============================] - 0s 3ms/step - loss: 0.0163 - accuracy: 0.9923 - val_loss: 0.0056 - val_accuracy: 1.0000\n",
      "Epoch 492/500\n",
      "49/49 [==============================] - 0s 2ms/step - loss: 0.0174 - accuracy: 0.9923 - val_loss: 0.0057 - val_accuracy: 1.0000\n",
      "Epoch 493/500\n",
      "29/49 [================>.............] - ETA: 0s - loss: 0.0123 - accuracy: 0.9957INFO:tensorflow:Assets written to: models\\model-493.model\\assets\n"
     ]
    },
    {
     "name": "stderr",
     "output_type": "stream",
     "text": [
      "INFO:tensorflow:Assets written to: models\\model-493.model\\assets\n"
     ]
    },
    {
     "name": "stdout",
     "output_type": "stream",
     "text": [
      "49/49 [==============================] - 1s 15ms/step - loss: 0.0153 - accuracy: 0.9949 - val_loss: 0.0045 - val_accuracy: 1.0000\n",
      "Epoch 494/500\n",
      "45/49 [==========================>...] - ETA: 0s - loss: 0.0121 - accuracy: 0.9958INFO:tensorflow:Assets written to: models\\model-494.model\\assets\n"
     ]
    },
    {
     "name": "stderr",
     "output_type": "stream",
     "text": [
      "INFO:tensorflow:Assets written to: models\\model-494.model\\assets\n"
     ]
    },
    {
     "name": "stdout",
     "output_type": "stream",
     "text": [
      "49/49 [==============================] - 1s 15ms/step - loss: 0.0139 - accuracy: 0.9949 - val_loss: 0.0041 - val_accuracy: 1.0000\n",
      "Epoch 495/500\n",
      "47/49 [===========================>..] - ETA: 0s - loss: 0.0073 - accuracy: 1.0000INFO:tensorflow:Assets written to: models\\model-495.model\\assets\n"
     ]
    },
    {
     "name": "stderr",
     "output_type": "stream",
     "text": [
      "INFO:tensorflow:Assets written to: models\\model-495.model\\assets\n"
     ]
    },
    {
     "name": "stdout",
     "output_type": "stream",
     "text": [
      "49/49 [==============================] - 1s 15ms/step - loss: 0.0072 - accuracy: 1.0000 - val_loss: 0.0041 - val_accuracy: 1.0000\n",
      "Epoch 496/500\n",
      "25/49 [==============>...............] - ETA: 0s - loss: 0.0044 - accuracy: 1.0000INFO:tensorflow:Assets written to: models\\model-496.model\\assets\n"
     ]
    },
    {
     "name": "stderr",
     "output_type": "stream",
     "text": [
      "INFO:tensorflow:Assets written to: models\\model-496.model\\assets\n"
     ]
    },
    {
     "name": "stdout",
     "output_type": "stream",
     "text": [
      "49/49 [==============================] - 1s 15ms/step - loss: 0.0056 - accuracy: 0.9987 - val_loss: 0.0038 - val_accuracy: 1.0000\n",
      "Epoch 497/500\n",
      "24/49 [=============>................] - ETA: 0s - loss: 0.0050 - accuracy: 0.9974INFO:tensorflow:Assets written to: models\\model-497.model\\assets\n"
     ]
    },
    {
     "name": "stderr",
     "output_type": "stream",
     "text": [
      "INFO:tensorflow:Assets written to: models\\model-497.model\\assets\n"
     ]
    },
    {
     "name": "stdout",
     "output_type": "stream",
     "text": [
      "49/49 [==============================] - 1s 18ms/step - loss: 0.0117 - accuracy: 0.9974 - val_loss: 0.0035 - val_accuracy: 1.0000\n",
      "Epoch 498/500\n",
      "49/49 [==============================] - 0s 3ms/step - loss: 0.0177 - accuracy: 0.9936 - val_loss: 0.0044 - val_accuracy: 1.0000\n",
      "Epoch 499/500\n",
      "49/49 [==============================] - 0s 3ms/step - loss: 0.0248 - accuracy: 0.9923 - val_loss: 0.0056 - val_accuracy: 1.0000\n",
      "Epoch 500/500\n",
      "49/49 [==============================] - 0s 3ms/step - loss: 0.0100 - accuracy: 0.9987 - val_loss: 0.0045 - val_accuracy: 1.0000\n"
     ]
    },
    {
     "data": {
      "text/plain": [
       "<keras.src.callbacks.History at 0x16d59c165d0>"
      ]
     },
     "execution_count": 11,
     "metadata": {},
     "output_type": "execute_result"
    }
   ],
   "source": [
    "model.fit(train_data, train_target, epochs=500, batch_size=16, validation_split=0.1,callbacks=[checkpoint])"
   ]
  },
  {
   "cell_type": "code",
   "execution_count": 12,
   "id": "b963f8d7",
   "metadata": {},
   "outputs": [
    {
     "data": {
      "image/png": "[encoded data removed]",
      "text/plain": [
       "<Figure size 640x480 with 1 Axes>"
      ]
     },
     "metadata": {},
     "output_type": "display_data"
    }
   ],
   "source": [
    "from matplotlib import pyplot as plt\n",
    "\n",
    "plt.plot(model.history.history['loss'], label='Training Loss')\n",
    "plt.plot(model.history.history['val_loss'], label='Validation Loss')\n",
    "plt.xlabel('# epochs')\n",
    "plt.ylabel('loss')\n",
    "plt.legend()\n",
    "plt.show()\n"
   ]
  },
  {
   "cell_type": "code",
   "execution_count": 13,
   "id": "016212e3",
   "metadata": {},
   "outputs": [
    {
     "data": {
      "image/png": "[encoded data removed]",
      "text/plain": [
       "<Figure size 640x480 with 1 Axes>"
      ]
     },
     "metadata": {},
     "output_type": "display_data"
    }
   ],
   "source": [
    "from matplotlib import pyplot as plt\n",
    "\n",
    "plt.plot(model.history.history['accuracy'], label='Training Accuracy')\n",
    "plt.plot(model.history.history['val_accuracy'], label='Validation Accuracy')\n",
    "plt.xlabel('# epochs')\n",
    "plt.ylabel('accuracy')\n",
    "plt.legend()\n",
    "plt.show()\n"
   ]
  },
  {
   "cell_type": "code",
   "execution_count": 14,
   "id": "f027f6c5",
   "metadata": {},
   "outputs": [
    {
     "name": "stdout",
     "output_type": "stream",
     "text": [
      "4/4 [==============================] - 0s 2ms/step\n"
     ]
    },
    {
     "data": {
      "text/plain": [
       "array([[1.92798194e-10],\n",
       "       [9.27626118e-08],\n",
       "       [1.00000000e+00],\n",
       "       [1.00000000e+00],\n",
       "       [1.00000000e+00],\n",
       "       [1.57239898e-11],\n",
       "       [1.46714016e-03],\n",
       "       [3.34367741e-07],\n",
       "       [4.64924099e-03],\n",
       "       [3.77544275e-05],\n",
       "       [9.99755561e-01],\n",
       "       [9.99751866e-01],\n",
       "       [9.99995708e-01],\n",
       "       [1.00000000e+00],\n",
       "       [8.73044257e-07],\n",
       "       [9.99996722e-01],\n",
       "       [1.00000000e+00],\n",
       "       [1.11572677e-03],\n",
       "       [9.99183297e-01],\n",
       "       [9.76245642e-01],\n",
       "       [9.84120250e-01],\n",
       "       [2.37745536e-03],\n",
       "       [2.06844852e-08],\n",
       "       [1.00000000e+00],\n",
       "       [1.00000000e+00],\n",
       "       [9.99774218e-01],\n",
       "       [5.79357675e-07],\n",
       "       [5.36154676e-03],\n",
       "       [9.99979019e-01],\n",
       "       [1.00000000e+00],\n",
       "       [9.99989748e-01],\n",
       "       [1.00000000e+00],\n",
       "       [1.00000000e+00],\n",
       "       [1.51700206e-05],\n",
       "       [4.16629919e-04],\n",
       "       [9.99923766e-01],\n",
       "       [9.99998271e-01],\n",
       "       [9.98396635e-01],\n",
       "       [5.39948186e-03],\n",
       "       [1.07152387e-04],\n",
       "       [3.18562638e-06],\n",
       "       [2.53806502e-04],\n",
       "       [1.00000000e+00],\n",
       "       [3.23521863e-06],\n",
       "       [9.76245642e-01],\n",
       "       [9.99774098e-01],\n",
       "       [9.99774098e-01],\n",
       "       [1.48403343e-08],\n",
       "       [7.39998370e-07],\n",
       "       [1.85072864e-08],\n",
       "       [6.16535472e-05],\n",
       "       [1.00000000e+00],\n",
       "       [9.99744236e-01],\n",
       "       [9.99998748e-01],\n",
       "       [1.93358943e-07],\n",
       "       [1.00000000e+00],\n",
       "       [1.00000000e+00],\n",
       "       [1.33704506e-02],\n",
       "       [1.14257109e-05],\n",
       "       [1.66475470e-03],\n",
       "       [3.61308548e-06],\n",
       "       [3.98154469e-07],\n",
       "       [9.99999821e-01],\n",
       "       [1.00000000e+00],\n",
       "       [3.77544275e-05],\n",
       "       [9.87802088e-01],\n",
       "       [1.00000000e+00],\n",
       "       [9.99999881e-01],\n",
       "       [9.84120250e-01],\n",
       "       [9.99751866e-01],\n",
       "       [4.87832865e-03],\n",
       "       [1.02827595e-04],\n",
       "       [7.58249138e-04],\n",
       "       [9.76245642e-01],\n",
       "       [1.00000000e+00],\n",
       "       [9.99999642e-01],\n",
       "       [6.34239696e-04],\n",
       "       [9.98309553e-01],\n",
       "       [1.14733211e-06],\n",
       "       [2.64888676e-03],\n",
       "       [1.51700206e-05],\n",
       "       [9.99999702e-01],\n",
       "       [9.99783099e-01],\n",
       "       [9.99994516e-01],\n",
       "       [9.99724269e-01],\n",
       "       [9.98916924e-01],\n",
       "       [9.99981105e-01],\n",
       "       [9.99999106e-01],\n",
       "       [5.69496723e-03],\n",
       "       [6.86855572e-07],\n",
       "       [1.08259311e-03],\n",
       "       [9.99998450e-01],\n",
       "       [9.99979258e-01],\n",
       "       [9.76853967e-01],\n",
       "       [1.00000000e+00],\n",
       "       [1.14408438e-09],\n",
       "       [9.99785244e-01]], dtype=float32)"
      ]
     },
     "execution_count": 14,
     "metadata": {},
     "output_type": "execute_result"
    }
   ],
   "source": [
    "predicted_target = model.predict(test_data)\n",
    "predicted_target"
   ]
  },
  {
   "cell_type": "code",
   "execution_count": 15,
   "id": "fee7bef9",
   "metadata": {},
   "outputs": [],
   "source": [
    "predicted_labels=np.argmax(predicted_target,axis=1)\n",
    "actual_labels=np.argmax(test_target,axis=1)"
   ]
  },
  {
   "cell_type": "code",
   "execution_count": 16,
   "id": "19c95c2d",
   "metadata": {},
   "outputs": [
    {
     "name": "stdout",
     "output_type": "stream",
     "text": [
      "acc: 1.0\n"
     ]
    }
   ],
   "source": [
    "from sklearn.metrics import accuracy_score\n",
    "\n",
    "acc=accuracy_score(actual_labels,predicted_labels)\n",
    "print('acc:',acc)"
   ]
  },
  {
   "cell_type": "code",
   "execution_count": 20,
   "id": "037f6da1",
   "metadata": {},
   "outputs": [
    {
     "data": {
      "image/png": "[encoded data removed]",
      "text/plain": [
       "<Figure size 800x600 with 2 Axes>"
      ]
     },
     "metadata": {},
     "output_type": "display_data"
    }
   ],
   "source": [
    "from sklearn.metrics import confusion_matrix\n",
    "import seaborn as sns\n",
    "\n",
    "conf_matrix = confusion_matrix(actual_labels, predicted_labels)\n",
    "\n",
    "plt.figure(figsize=(8, 6))\n",
    "sns.heatmap(conf_matrix, annot=True, fmt='g', cmap='Blues')\n",
    "plt.xlabel('Predicted Label')\n",
    "plt.ylabel('True Label')\n",
    "plt.title('Confusion Matrix')\n",
    "plt.show()\n"
   ]
  },
  {
   "cell_type": "code",
   "execution_count": 17,
   "id": "793bedfb",
   "metadata": {},
   "outputs": [
    {
     "name": "stdout",
     "output_type": "stream",
     "text": [
      "actual: [[0. 0. 1. 1. 1. 0. 0. 0. 0. 0.]]\n",
      "predicted: [[1.9279819e-10 9.2762612e-08 1.0000000e+00 1.0000000e+00 1.0000000e+00\n",
      "  1.5723990e-11 1.4671402e-03 3.3436774e-07 4.6492410e-03 3.7754427e-05]]\n"
     ]
    }
   ],
   "source": [
    "print('actual:',test_target[:10].T)\n",
    "print('predicted:',predicted_target[:10].T)"
   ]
  },
  {
   "cell_type": "code",
   "execution_count": 18,
   "id": "b140fe52",
   "metadata": {},
   "outputs": [
    {
     "data": {
      "text/plain": [
       "['scaler_target.sav']"
      ]
     },
     "execution_count": 18,
     "metadata": {},
     "output_type": "execute_result"
    }
   ],
   "source": [
    "import joblib\n",
    "\n",
    "joblib.dump(scaler_data,'scaler_data.sav')\n",
    "joblib.dump(scaler_target,'scaler_target.sav')"
   ]
  },
  {
   "cell_type": "code",
   "execution_count": 19,
   "id": "91ab6ef9",
   "metadata": {},
   "outputs": [
    {
     "name": "stderr",
     "output_type": "stream",
     "text": [
      "C:\\Users\\Acer\\anaconda3\\Lib\\site-packages\\keras\\src\\engine\\training.py:3103: UserWarning: You are saving your model as an HDF5 file via `model.save()`. This file format is considered legacy. We recommend using instead the native Keras format, e.g. `model.save('my_model.keras')`.\n",
      "  saving_api.save_model(\n"
     ]
    }
   ],
   "source": [
    "model.save(\"model.h5\")"
   ]
  },
  {
   "cell_type": "code",
   "execution_count": null,
   "id": "3cf65d59",
   "metadata": {},
   "outputs": [],
   "source": []
  },
  {
   "cell_type": "code",
   "execution_count": null,
   "id": "2af63373",
   "metadata": {},
   "outputs": [],
   "source": []
  },
  {
   "cell_type": "code",
   "execution_count": null,
   "id": "7500af9c",
   "metadata": {},
   "outputs": [],
   "source": []
  },
  {
   "cell_type": "code",
   "execution_count": null,
   "id": "e366bdb9",
   "metadata": {},
   "outputs": [],
   "source": []
  },
  {
   "cell_type": "code",
   "execution_count": null,
   "id": "6473e7a2",
   "metadata": {},
   "outputs": [],
   "source": []
  },
  {
   "cell_type": "code",
   "execution_count": null,
   "id": "59eb11d9",
   "metadata": {},
   "outputs": [],
   "source": []
  }
 ],
 "metadata": {
  "kernelspec": {
   "display_name": "Python 3 (ipykernel)",
   "language": "python",
   "name": "python3"
  },
  "language_info": {
   "codemirror_mode": {
    "name": "ipython",
    "version": 3
   },
   "file_extension": ".py",
   "mimetype": "text/x-python",
   "name": "python",
   "nbconvert_exporter": "python",
   "pygments_lexer": "ipython3",
   "version": "3.11.5"
  }
 },
 "nbformat": 4,
 "nbformat_minor": 5
}
