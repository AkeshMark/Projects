{
 "cells": [
  {
   "cell_type": "code",
   "execution_count": 1,
   "id": "5d6d660f",
   "metadata": {},
   "outputs": [
    {
     "name": "stdout",
     "output_type": "stream",
     "text": [
      "WARNING:tensorflow:From C:\\Users\\Acer\\anaconda3\\Lib\\site-packages\\keras\\src\\losses.py:2976: The name tf.losses.sparse_softmax_cross_entropy is deprecated. Please use tf.compat.v1.losses.sparse_softmax_cross_entropy instead.\n",
      "\n",
      "WARNING:tensorflow:From C:\\Users\\Acer\\anaconda3\\Lib\\site-packages\\keras\\src\\backend.py:1398: The name tf.executing_eagerly_outside_functions is deprecated. Please use tf.compat.v1.executing_eagerly_outside_functions instead.\n",
      "\n",
      "1/1 [==============================] - 0s 118ms/step\n",
      "[[8.9581636e-07]\n",
      " [9.9995965e-01]]\n"
     ]
    }
   ],
   "source": [
    "from keras.models import load_model\n",
    "import numpy as np\n",
    "\n",
    "model = load_model('model.h5')\n",
    "\n",
    "import joblib\n",
    "\n",
    "scaler_data = joblib.load('scaler_data.sav')\n",
    "scaler_target = joblib.load('scaler_target.sav')\n",
    "\n",
    "input_data = np.array([[60, 0, 0, 125, 258, 0, 141, 1, 2.8, 1, 1, 3],\n",
    "                       [59, 1, 1, 140, 221, 1, 164, 1, 0.0, 2, 0, 2]])\n",
    "input_data_scaled = scaler_data.transform(input_data)\n",
    "\n",
    "predictions = model.predict(input_data_scaled)\n",
    "\n",
    "print(predictions)"
   ]
  },
  {
   "cell_type": "code",
   "execution_count": null,
   "id": "24669fc3",
   "metadata": {},
   "outputs": [],
   "source": []
  }
 ],
 "metadata": {
  "kernelspec": {
   "display_name": "Python 3 (ipykernel)",
   "language": "python",
   "name": "python3"
  },
  "language_info": {
   "codemirror_mode": {
    "name": "ipython",
    "version": 3
   },
   "file_extension": ".py",
   "mimetype": "text/x-python",
   "name": "python",
   "nbconvert_exporter": "python",
   "pygments_lexer": "ipython3",
   "version": "3.11.5"
  }
 },
 "nbformat": 4,
 "nbformat_minor": 5
}
