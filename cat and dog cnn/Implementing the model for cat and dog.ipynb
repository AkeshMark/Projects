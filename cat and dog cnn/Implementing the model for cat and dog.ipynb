{
 "cells": [
  {
   "cell_type": "markdown",
   "id": "6dd89c28",
   "metadata": {},
   "source": [
    "# Loading the dataset"
   ]
  },
  {
   "cell_type": "code",
   "execution_count": null,
   "id": "976b3dae",
   "metadata": {},
   "outputs": [],
   "source": [
    "import numpy as np\n",
    "\n",
    "data=np.load('data.npy')\n",
    "target=np.load('target.npy')"
   ]
  },
  {
   "cell_type": "markdown",
   "id": "c69822bb",
   "metadata": {},
   "source": [
    "# CNN Architecture"
   ]
  },
  {
   "cell_type": "code",
   "execution_count": 10,
   "id": "fdf943e0",
   "metadata": {},
   "outputs": [],
   "source": [
    "from keras.models import Sequential\n",
    "from keras.layers import Dense,Activation,Flatten\n",
    "from keras.layers import Conv2D,MaxPooling2D,Dropout,BatchNormalization\n",
    "\n",
    "model=Sequential()\n",
    "\n",
    "model.add(Conv2D(256,(3,3),input_shape=data.shape[1:]))\n",
    "model.add(BatchNormalization())\n",
    "model.add(Activation('relu'))\n",
    "model.add(MaxPooling2D(pool_size=(2,2)))\n",
    "\n",
    "model.add(Conv2D(128,(3,3)))\n",
    "model.add(BatchNormalization())\n",
    "model.add(Activation('relu'))\n",
    "model.add(MaxPooling2D(pool_size=(2,2)))\n",
    "\n",
    "model.add(Flatten())\n",
    "model.add(Dropout(0.5))\n",
    "model.add(Dense(64,activation='relu'))\n",
    "model.add(Dense(2,activation='softmax'))\n",
    "\n",
    "model.compile(loss='categorical_crossentropy',optimizer='adam',metrics=['accuracy'])"
   ]
  },
  {
   "cell_type": "code",
   "execution_count": 11,
   "id": "6d19ffd8",
   "metadata": {},
   "outputs": [],
   "source": [
    "from sklearn.model_selection import train_test_split\n",
    "\n",
    "train_data,test_data,train_target,test_target=train_test_split(data,target,test_size=0.2)"
   ]
  },
  {
   "cell_type": "markdown",
   "id": "d6662797",
   "metadata": {},
   "source": [
    "# Data Augmentation"
   ]
  },
  {
   "cell_type": "code",
   "execution_count": 12,
   "id": "4bbc9424",
   "metadata": {},
   "outputs": [],
   "source": [
    "from keras.preprocessing.image import ImageDataGenerator\n",
    "\n",
    "aug = ImageDataGenerator(rotation_range=20,zoom_range=0.15,width_shift_range=0.2,height_shift_range=0.2,shear_range=0.15,\n",
    "                         horizontal_flip=True,fill_mode=\"nearest\")"
   ]
  },
  {
   "cell_type": "markdown",
   "id": "d8ff5502",
   "metadata": {},
   "source": [
    "# Training the model"
   ]
  },
  {
   "cell_type": "code",
   "execution_count": 13,
   "id": "976f8765",
   "metadata": {},
   "outputs": [
    {
     "name": "stdout",
     "output_type": "stream",
     "text": [
      "Epoch 1/20\n",
      "624/624 [==============================] - 167s 266ms/step - loss: 0.6906 - accuracy: 0.5959\n",
      "Epoch 2/20\n",
      "624/624 [==============================] - 161s 259ms/step - loss: 0.6265 - accuracy: 0.6440\n",
      "Epoch 3/20\n",
      "624/624 [==============================] - 160s 257ms/step - loss: 0.6068 - accuracy: 0.6695\n",
      "Epoch 4/20\n",
      "624/624 [==============================] - 159s 255ms/step - loss: 0.5955 - accuracy: 0.6756\n",
      "Epoch 5/20\n",
      "624/624 [==============================] - 166s 266ms/step - loss: 0.5862 - accuracy: 0.6878\n",
      "Epoch 6/20\n",
      "624/624 [==============================] - 183s 294ms/step - loss: 0.5719 - accuracy: 0.7019\n",
      "Epoch 7/20\n",
      "624/624 [==============================] - 181s 290ms/step - loss: 0.5635 - accuracy: 0.7068\n",
      "Epoch 8/20\n",
      "624/624 [==============================] - 187s 300ms/step - loss: 0.5503 - accuracy: 0.7184\n",
      "Epoch 9/20\n",
      "624/624 [==============================] - 191s 306ms/step - loss: 0.5413 - accuracy: 0.7271\n",
      "Epoch 10/20\n",
      "624/624 [==============================] - 189s 303ms/step - loss: 0.5324 - accuracy: 0.7291\n",
      "Epoch 11/20\n",
      "624/624 [==============================] - 187s 299ms/step - loss: 0.5312 - accuracy: 0.7344\n",
      "Epoch 12/20\n",
      "624/624 [==============================] - 189s 303ms/step - loss: 0.5270 - accuracy: 0.7367\n",
      "Epoch 13/20\n",
      "624/624 [==============================] - 192s 308ms/step - loss: 0.5176 - accuracy: 0.7432\n",
      "Epoch 14/20\n",
      "624/624 [==============================] - 186s 298ms/step - loss: 0.5154 - accuracy: 0.7450\n",
      "Epoch 15/20\n",
      "624/624 [==============================] - 189s 303ms/step - loss: 0.5083 - accuracy: 0.7477\n",
      "Epoch 16/20\n",
      "624/624 [==============================] - 186s 298ms/step - loss: 0.5092 - accuracy: 0.7489\n",
      "Epoch 17/20\n",
      "624/624 [==============================] - 184s 295ms/step - loss: 0.5034 - accuracy: 0.7532\n",
      "Epoch 18/20\n",
      "624/624 [==============================] - 158s 253ms/step - loss: 0.4976 - accuracy: 0.7580\n",
      "Epoch 19/20\n",
      "624/624 [==============================] - 159s 255ms/step - loss: 0.4880 - accuracy: 0.7644\n",
      "Epoch 20/20\n",
      "624/624 [==============================] - 158s 252ms/step - loss: 0.4873 - accuracy: 0.7650\n"
     ]
    }
   ],
   "source": [
    "history=model.fit(aug.flow(train_data,train_target,batch_size=32),epochs=20)"
   ]
  },
  {
   "cell_type": "markdown",
   "id": "6dd6a457",
   "metadata": {},
   "source": [
    "# Plotting the loss and the accuracy"
   ]
  },
  {
   "cell_type": "code",
   "execution_count": 14,
   "id": "19f76a42",
   "metadata": {},
   "outputs": [
    {
     "data": {
      "text/plain": [
       "[<matplotlib.lines.Line2D at 0x1b314a27d50>]"
      ]
     },
     "execution_count": 14,
     "metadata": {},
     "output_type": "execute_result"
    },
    {
     "data": {
      "image/png": "[encoded data removed]",
      "text/plain": [
       "<Figure size 640x480 with 1 Axes>"
      ]
     },
     "metadata": {},
     "output_type": "display_data"
    }
   ],
   "source": [
    "from matplotlib import pyplot as plt\n",
    "plt.plot(history.history['loss'])"
   ]
  },
  {
   "cell_type": "code",
   "execution_count": 15,
   "id": "92efbf1d",
   "metadata": {},
   "outputs": [
    {
     "data": {
      "text/plain": [
       "[<matplotlib.lines.Line2D at 0x1b316616b50>]"
      ]
     },
     "execution_count": 15,
     "metadata": {},
     "output_type": "execute_result"
    },
    {
     "data": {
      "image/png": "[encoded data removed]",
      "text/plain": [
       "<Figure size 640x480 with 1 Axes>"
      ]
     },
     "metadata": {},
     "output_type": "display_data"
    }
   ],
   "source": [
    "plt.plot(history.history['accuracy'])"
   ]
  },
  {
   "cell_type": "markdown",
   "id": "174575ea",
   "metadata": {},
   "source": [
    "# Evaluating the model using testing data"
   ]
  },
  {
   "cell_type": "code",
   "execution_count": 16,
   "id": "d9e4dcf5",
   "metadata": {},
   "outputs": [
    {
     "name": "stdout",
     "output_type": "stream",
     "text": [
      "156/156 [==============================] - 10s 61ms/step - loss: 0.4414 - accuracy: 0.7846\n",
      "[0.441425085067749, 0.7845691442489624]\n"
     ]
    }
   ],
   "source": [
    "print(model.evaluate(test_data,test_target))"
   ]
  },
  {
   "cell_type": "code",
   "execution_count": 17,
   "id": "d5b5b2f2",
   "metadata": {},
   "outputs": [
    {
     "name": "stdout",
     "output_type": "stream",
     "text": [
      "156/156 [==============================] - 10s 60ms/step\n"
     ]
    }
   ],
   "source": [
    "predicted_target=model.predict(test_data)"
   ]
  },
  {
   "cell_type": "code",
   "execution_count": 18,
   "id": "6737b6f2",
   "metadata": {},
   "outputs": [
    {
     "data": {
      "text/plain": [
       "'              precision    recall  f1-score   support\\n\\n           0       0.90      0.64      0.75      2501\\n           1       0.72      0.93      0.81      2489\\n\\n    accuracy                           0.78      4990\\n   macro avg       0.81      0.78      0.78      4990\\nweighted avg       0.81      0.78      0.78      4990\\n'"
      ]
     },
     "execution_count": 18,
     "metadata": {},
     "output_type": "execute_result"
    }
   ],
   "source": [
    "from sklearn.metrics import classification_report\n",
    "classification_report(np.argmax(test_target,axis=1),np.argmax(predicted_target,axis=1))"
   ]
  },
  {
   "cell_type": "code",
   "execution_count": 55,
   "id": "cfb1532c",
   "metadata": {},
   "outputs": [
    {
     "data": {
      "text/plain": [
       "array([[0.35415885, 0.6458411 ],\n",
       "       [0.05434783, 0.9456522 ],\n",
       "       [0.7602037 , 0.23979631],\n",
       "       [0.78183466, 0.21816537],\n",
       "       [0.62658745, 0.37341255],\n",
       "       [0.2917736 , 0.7082264 ],\n",
       "       [0.68112916, 0.31887087],\n",
       "       [0.61653876, 0.38346127],\n",
       "       [0.0947453 , 0.9052547 ],\n",
       "       [0.88329065, 0.11670934]], dtype=float32)"
      ]
     },
     "execution_count": 55,
     "metadata": {},
     "output_type": "execute_result"
    }
   ],
   "source": [
    "predicted_target[:10]"
   ]
  },
  {
   "cell_type": "code",
   "execution_count": 56,
   "id": "5343c34e",
   "metadata": {},
   "outputs": [
    {
     "data": {
      "text/plain": [
       "array([1, 1, 0, 0, 0, 1, 0, 0, 1, 0], dtype=int64)"
      ]
     },
     "execution_count": 56,
     "metadata": {},
     "output_type": "execute_result"
    }
   ],
   "source": [
    "label=np.argmax(predicted_target,axis=1)[0:10]\n",
    "label"
   ]
  },
  {
   "cell_type": "code",
   "execution_count": null,
   "id": "8ce56ffa",
   "metadata": {},
   "outputs": [],
   "source": []
  }
 ],
 "metadata": {
  "kernelspec": {
   "display_name": "Python 3 (ipykernel)",
   "language": "python",
   "name": "python3"
  },
  "language_info": {
   "codemirror_mode": {
    "name": "ipython",
    "version": 3
   },
   "file_extension": ".py",
   "mimetype": "text/x-python",
   "name": "python",
   "nbconvert_exporter": "python",
   "pygments_lexer": "ipython3",
   "version": "3.11.5"
  }
 },
 "nbformat": 4,
 "nbformat_minor": 5
}
